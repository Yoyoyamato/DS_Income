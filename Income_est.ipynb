{
 "cells": [
  {
   "cell_type": "markdown",
   "metadata": {},
   "source": [
    "# EDA"
   ]
  },
  {
   "cell_type": "code",
   "execution_count": 91,
   "metadata": {},
   "outputs": [],
   "source": [
    "## import libraries\n",
    "import numpy as np\n",
    "import pandas as pd\n",
    "import matplotlib.pyplot as plt\n",
    "import seaborn as sns\n",
    "from  scipy import stats as st\n",
    "import statsmodels.formula.api as sm\n",
    "import re"
   ]
  },
  {
   "cell_type": "code",
   "execution_count": 92,
   "metadata": {},
   "outputs": [
    {
     "name": "stderr",
     "output_type": "stream",
     "text": [
      "/Users/yamato0615/anaconda3/lib/python3.7/site-packages/ipykernel_launcher.py:4: FutureWarning:\n",
      "\n",
      "The default value of regex will change from True to False in a future version. In addition, single character regular expressions will *not* be treated as literal strings when regex=True.\n",
      "\n",
      "/Users/yamato0615/anaconda3/lib/python3.7/site-packages/ipykernel_launcher.py:6: FutureWarning:\n",
      "\n",
      "The default value of regex will change from True to False in a future version.\n",
      "\n",
      "/Users/yamato0615/anaconda3/lib/python3.7/site-packages/ipykernel_launcher.py:7: FutureWarning:\n",
      "\n",
      "The default value of regex will change from True to False in a future version. In addition, single character regular expressions will *not* be treated as literal strings when regex=True.\n",
      "\n",
      "/Users/yamato0615/anaconda3/lib/python3.7/site-packages/ipykernel_launcher.py:8: FutureWarning:\n",
      "\n",
      "The default value of regex will change from True to False in a future version. In addition, single character regular expressions will *not* be treated as literal strings when regex=True.\n",
      "\n"
     ]
    }
   ],
   "source": [
    "## read the csv file\n",
    "df = pd.read_csv('DataAnalyst 2.csv')\n",
    "df.columns = df.columns.str.replace(' ', '_')\n",
    "df['Salary_Estimate'] = df['Salary_Estimate'].str.replace('$', '')\n",
    "df['Salary_Estimate'] = df['Salary_Estimate'].str.replace('K', '')\n",
    "df['Salary_Estimate'] = df['Salary_Estimate'].str.replace('(Glassdoor est.)', '')\n",
    "df['Salary_Estimate'] = df['Salary_Estimate'].str.replace('(', '')\n",
    "df['Salary_Estimate'] = df['Salary_Estimate'].str.replace(')', '')\n",
    "df['Salary_Estimate'] = df['Salary_Estimate'].str.replace(' ', '')\n",
    "df['Salary_Estimate'] = df['Salary_Estimate'].str.split('-')"
   ]
  },
  {
   "cell_type": "code",
   "execution_count": 93,
   "metadata": {},
   "outputs": [],
   "source": [
    "## functions\n",
    "# make the salary numeric\n",
    "def salary(x):\n",
    "    if len(x) == 2:\n",
    "        if x[0] == '':\n",
    "            return int(x[1])\n",
    "        else:\n",
    "            ans = (int(x[0]) + int(x[1])) / 2\n",
    "            return ans\n",
    "    else:\n",
    "        return x\n",
    "# identify if the job title is for senior or not\n",
    "def senior(x):\n",
    "    if 'senior' in x.lower():\n",
    "        return 1\n",
    "    else:\n",
    "        return 0\n",
    "\n",
    "# binary for company size under 500 employees\n",
    "def size(x):\n",
    "    if x == '1 to 50 employees' or x == '51 to 200 employees' or x == '201 to 500 employees':\n",
    "        return 0\n",
    "    else:\n",
    "        return 1\n",
    "\n",
    "# binary for company revneue under 500 million USD\n",
    "def rev(x):\n",
    "    if x == 'Unknown / Non-Applicable' or x == '-1' or x == 'Less than $1 million (USD)' or x == '$1 to $5 million (USD)' or x == '$5 to $10 million (USD)' or x == '$10 to $25 million (USD)' or x == '$25 to $50 million (USD)' or x == '$50 to $100 million (USD)' or x == '$100 to $500 million (USD)':\n",
    "        return 0\n",
    "    else:\n",
    "        return 1"
   ]
  },
  {
   "cell_type": "code",
   "execution_count": 94,
   "metadata": {},
   "outputs": [],
   "source": [
    "# years of experience\n",
    "def exper(i):\n",
    "   for j in i.split('\\n'):\n",
    "       if re.search(r'year[a-zA-Z0-9_]* [\\w|\\s]*experience', j.lower().replace(\"'\", \"\").replace(\"’\", \"\")):\n",
    "           target = r'year[a-zA-Z0-9_]* [\\w|\\s]*experience'\n",
    "           idx = j.find(target)\n",
    "           r = j[:idx]\n",
    "           if 'one' in r.lower():\n",
    "               return 1\n",
    "           elif 'two' in r.lower():\n",
    "               return 2\n",
    "           elif 'three' in r.lower():\n",
    "               return 3\n",
    "           elif 'four' in r.lower():\n",
    "               return 4\n",
    "           elif 'five' in r.lower():\n",
    "               return 5\n",
    "           elif 'six' in r.lower():\n",
    "               return 6\n",
    "           elif 'seven' in r.lower():\n",
    "               return 7\n",
    "           elif 'eight' in r.lower():\n",
    "               return 8\n",
    "           elif 'nine' in r.lower():\n",
    "               return 9\n",
    "           elif 'ten' in r.lower():\n",
    "               return 10\n",
    "           else:\n",
    "               for k in re.sub(r\"\\D\", \" \", r).split(' '):\n",
    "                   if k.isnumeric():\n",
    "                       return int(k)\n",
    "                   else:\n",
    "                       pass\n",
    "       elif re.search(r'year[a-zA-Z0-9_]* [\\w|\\s]*work', j.lower().replace(\"'\", \"\").replace(\"’\", \"\")):\n",
    "           target = r'year[a-zA-Z0-9_]* [\\w|\\s]*work'\n",
    "           idx = j.find(target)\n",
    "           r = j[:idx]\n",
    "           if 'one' in r.lower():\n",
    "               return 1\n",
    "           elif 'two' in r.lower():\n",
    "               return 2\n",
    "           elif 'three' in r.lower():\n",
    "               return 3\n",
    "           elif 'four' in r.lower():\n",
    "               return 4\n",
    "           elif 'five' in r.lower():\n",
    "               return 5\n",
    "           elif 'six' in r.lower():\n",
    "               return 6\n",
    "           elif 'seven' in r.lower():\n",
    "               return 7\n",
    "           elif 'eight' in r.lower():\n",
    "               return 8\n",
    "           elif 'nine' in r.lower():\n",
    "               return 9\n",
    "           elif 'ten' in r.lower():\n",
    "               return 10\n",
    "           else:\n",
    "               for k in re.sub(r\"\\D\", \" \", r).split(' '):\n",
    "                   if k.isnumeric():\n",
    "                       return int(k)\n",
    "                   else:\n",
    "                       pass\n",
    "       elif re.search(r'year[a-zA-Z0-9_]* [\\w|\\s]*data', j.lower().replace(\"'\", \"\").replace(\"’\", \"\")):\n",
    "           target = r'year[a-zA-Z0-9_]* [\\w|\\s]*data'\n",
    "           idx = j.find(target)\n",
    "           r = j[:idx]\n",
    "           if 'one' in r.lower():\n",
    "               return 1\n",
    "           elif 'two' in r.lower():\n",
    "               return 2\n",
    "           elif 'three' in r.lower():\n",
    "               return 3\n",
    "           elif 'four' in r.lower():\n",
    "               return 4\n",
    "           elif 'five' in r.lower():\n",
    "               return 5\n",
    "           elif 'six' in r.lower():\n",
    "               return 6\n",
    "           elif 'seven' in r.lower():\n",
    "               return 7\n",
    "           elif 'eight' in r.lower():\n",
    "               return 8\n",
    "           elif 'nine' in r.lower():\n",
    "               return 9\n",
    "           elif 'ten' in r.lower():\n",
    "               return 10\n",
    "           else:\n",
    "               for k in re.sub(r\"\\D\", \" \", r).split(' '):\n",
    "                   if k.isnumeric():\n",
    "                       return int(k)\n",
    "                   else:\n",
    "                       pass\n"
   ]
  },
  {
   "cell_type": "code",
   "execution_count": 95,
   "metadata": {},
   "outputs": [],
   "source": [
    "def ye1(x):\n",
    "    if x > 0:\n",
    "        return 1\n",
    "    else:\n",
    "        return 0\n",
    "\n",
    "def ye2(x):\n",
    "    if x > 3:\n",
    "        return 1\n",
    "    else:\n",
    "        return 0\n",
    "\n",
    "skills = ['SQL','Python','MachineLearning',\n",
    "          'SPSS','MATLAB','SAS','Spark','Hadoop',\n",
    "         'MongoDB','Tableau']\n",
    "\n",
    "def hardskills(x):\n",
    "    count = 0\n",
    "    for i in skills:\n",
    "        i = i.lower()\n",
    "        if i in x.replace(\"\\n\",\"\").replace(\" \",\"\").lower():\n",
    "            count += 1\n",
    "    return count\n",
    "df[\"skills\"] = df['Job_Description'].apply(lambda x: hardskills(x))"
   ]
  },
  {
   "cell_type": "code",
   "execution_count": 96,
   "metadata": {},
   "outputs": [
    {
     "data": {
      "text/html": [
       "<div>\n",
       "<style scoped>\n",
       "    .dataframe tbody tr th:only-of-type {\n",
       "        vertical-align: middle;\n",
       "    }\n",
       "\n",
       "    .dataframe tbody tr th {\n",
       "        vertical-align: top;\n",
       "    }\n",
       "\n",
       "    .dataframe thead th {\n",
       "        text-align: right;\n",
       "    }\n",
       "</style>\n",
       "<table border=\"1\" class=\"dataframe\">\n",
       "  <thead>\n",
       "    <tr style=\"text-align: right;\">\n",
       "      <th></th>\n",
       "      <th>Unnamed:_0</th>\n",
       "      <th>Job_Title</th>\n",
       "      <th>Salary_Estimate</th>\n",
       "      <th>Job_Description</th>\n",
       "      <th>Rating</th>\n",
       "      <th>Company_Name</th>\n",
       "      <th>Location</th>\n",
       "      <th>Headquarters</th>\n",
       "      <th>Size</th>\n",
       "      <th>Founded</th>\n",
       "      <th>...</th>\n",
       "      <th>Easy_Apply</th>\n",
       "      <th>skills</th>\n",
       "      <th>Senior</th>\n",
       "      <th>com_size_u500</th>\n",
       "      <th>com_rev_u500m</th>\n",
       "      <th>years_experience</th>\n",
       "      <th>ye0</th>\n",
       "      <th>ye3</th>\n",
       "      <th>Location_code</th>\n",
       "      <th>log_sal</th>\n",
       "    </tr>\n",
       "  </thead>\n",
       "  <tbody>\n",
       "    <tr>\n",
       "      <th>1825</th>\n",
       "      <td>1825</td>\n",
       "      <td>Federal - Data Analyst</td>\n",
       "      <td>64.5</td>\n",
       "      <td>Organization: Accenture Federal ServicesLocati...</td>\n",
       "      <td>-1.0</td>\n",
       "      <td>Accenture Contractor Jobs</td>\n",
       "      <td>Charlotte, NC</td>\n",
       "      <td>-1</td>\n",
       "      <td>-1</td>\n",
       "      <td>-1</td>\n",
       "      <td>...</td>\n",
       "      <td>-1</td>\n",
       "      <td>0</td>\n",
       "      <td>0</td>\n",
       "      <td>1</td>\n",
       "      <td>1</td>\n",
       "      <td>30.0</td>\n",
       "      <td>1</td>\n",
       "      <td>1</td>\n",
       "      <td>NC</td>\n",
       "      <td>4.166665</td>\n",
       "    </tr>\n",
       "    <tr>\n",
       "      <th>979</th>\n",
       "      <td>979</td>\n",
       "      <td>Business Data Analyst</td>\n",
       "      <td>73.5</td>\n",
       "      <td>What We Are Looking For\\n\\nNEP is currently se...</td>\n",
       "      <td>4.6</td>\n",
       "      <td>National Education Partners</td>\n",
       "      <td>Scottsdale, AZ</td>\n",
       "      <td>Scottsdale, AZ</td>\n",
       "      <td>201 to 500 employees</td>\n",
       "      <td>2019</td>\n",
       "      <td>...</td>\n",
       "      <td>-1</td>\n",
       "      <td>2</td>\n",
       "      <td>0</td>\n",
       "      <td>0</td>\n",
       "      <td>0</td>\n",
       "      <td>2.0</td>\n",
       "      <td>1</td>\n",
       "      <td>0</td>\n",
       "      <td>AZ</td>\n",
       "      <td>4.297285</td>\n",
       "    </tr>\n",
       "    <tr>\n",
       "      <th>743</th>\n",
       "      <td>743</td>\n",
       "      <td>Associate Marketing Data Analyst</td>\n",
       "      <td>63.0</td>\n",
       "      <td>Qualifications* Bachelor's degree in Accountin...</td>\n",
       "      <td>3.1</td>\n",
       "      <td>Robert Bosch Tool Corporation</td>\n",
       "      <td>Broadview, IL</td>\n",
       "      <td>Mount Prospect, IL</td>\n",
       "      <td>1001 to 5000 employees</td>\n",
       "      <td>1971</td>\n",
       "      <td>...</td>\n",
       "      <td>-1</td>\n",
       "      <td>0</td>\n",
       "      <td>0</td>\n",
       "      <td>1</td>\n",
       "      <td>1</td>\n",
       "      <td>10.0</td>\n",
       "      <td>1</td>\n",
       "      <td>1</td>\n",
       "      <td>IL</td>\n",
       "      <td>4.143135</td>\n",
       "    </tr>\n",
       "  </tbody>\n",
       "</table>\n",
       "<p>3 rows × 25 columns</p>\n",
       "</div>"
      ],
      "text/plain": [
       "      Unnamed:_0                         Job_Title  Salary_Estimate  \\\n",
       "1825        1825            Federal - Data Analyst             64.5   \n",
       "979          979             Business Data Analyst             73.5   \n",
       "743          743  Associate Marketing Data Analyst             63.0   \n",
       "\n",
       "                                        Job_Description  Rating  \\\n",
       "1825  Organization: Accenture Federal ServicesLocati...    -1.0   \n",
       "979   What We Are Looking For\\n\\nNEP is currently se...     4.6   \n",
       "743   Qualifications* Bachelor's degree in Accountin...     3.1   \n",
       "\n",
       "                       Company_Name        Location        Headquarters  \\\n",
       "1825      Accenture Contractor Jobs   Charlotte, NC                  -1   \n",
       "979     National Education Partners  Scottsdale, AZ      Scottsdale, AZ   \n",
       "743   Robert Bosch Tool Corporation   Broadview, IL  Mount Prospect, IL   \n",
       "\n",
       "                        Size  Founded  ... Easy_Apply skills Senior  \\\n",
       "1825                      -1       -1  ...         -1      0      0   \n",
       "979     201 to 500 employees     2019  ...         -1      2      0   \n",
       "743   1001 to 5000 employees     1971  ...         -1      0      0   \n",
       "\n",
       "     com_size_u500 com_rev_u500m years_experience  ye0  ye3  Location_code  \\\n",
       "1825             1             1             30.0    1    1             NC   \n",
       "979              0             0              2.0    1    0             AZ   \n",
       "743              1             1             10.0    1    1             IL   \n",
       "\n",
       "       log_sal  \n",
       "1825  4.166665  \n",
       "979   4.297285  \n",
       "743   4.143135  \n",
       "\n",
       "[3 rows x 25 columns]"
      ]
     },
     "execution_count": 96,
     "metadata": {},
     "output_type": "execute_result"
    }
   ],
   "source": [
    "df['Salary_Estimate'] = df['Salary_Estimate'].apply(lambda x: salary(x))\n",
    "df['Senior'] = df['Job_Title'].apply(lambda x: senior(x))\n",
    "df['com_size_u500'] = df['Size'].apply(lambda x: size(x))\n",
    "df['com_rev_u500m'] = df['Revenue'].apply(lambda x: rev(x))\n",
    "df['years_experience'] = df['Job_Description'].apply(lambda x: exper(x))\n",
    "df['ye0'] = df['years_experience'].apply(lambda x: ye1(x))\n",
    "df['ye3'] = df['years_experience'].apply(lambda x: ye2(x))\n",
    "\n",
    "## clean the company_name\n",
    "df['Company_Name'] = df['Company_Name'].map(lambda x:str(x).split('\\n')[0])\n",
    "\n",
    "## get the state code\n",
    "df['Location_code'] = df['Location'].map(lambda x:x.split(', ')[1])\n",
    "\n",
    "# log the salary estimate\n",
    "df['log_sal'] = np.log(df.Salary_Estimate)\n",
    "df.sample(3)"
   ]
  },
  {
   "cell_type": "markdown",
   "metadata": {},
   "source": [
    "## Number of Jobs per State"
   ]
  },
  {
   "cell_type": "code",
   "execution_count": 97,
   "metadata": {},
   "outputs": [
    {
     "data": {
      "text/html": [
       "<div>\n",
       "<style scoped>\n",
       "    .dataframe tbody tr th:only-of-type {\n",
       "        vertical-align: middle;\n",
       "    }\n",
       "\n",
       "    .dataframe tbody tr th {\n",
       "        vertical-align: top;\n",
       "    }\n",
       "\n",
       "    .dataframe thead th {\n",
       "        text-align: right;\n",
       "    }\n",
       "</style>\n",
       "<table border=\"1\" class=\"dataframe\">\n",
       "  <thead>\n",
       "    <tr style=\"text-align: right;\">\n",
       "      <th></th>\n",
       "      <th>Num_Jobs</th>\n",
       "    </tr>\n",
       "    <tr>\n",
       "      <th>Location_code</th>\n",
       "      <th></th>\n",
       "    </tr>\n",
       "  </thead>\n",
       "  <tbody>\n",
       "    <tr>\n",
       "      <th>CA</th>\n",
       "      <td>626</td>\n",
       "    </tr>\n",
       "    <tr>\n",
       "      <th>TX</th>\n",
       "      <td>394</td>\n",
       "    </tr>\n",
       "    <tr>\n",
       "      <th>NY</th>\n",
       "      <td>345</td>\n",
       "    </tr>\n",
       "    <tr>\n",
       "      <th>IL</th>\n",
       "      <td>164</td>\n",
       "    </tr>\n",
       "    <tr>\n",
       "      <th>PA</th>\n",
       "      <td>114</td>\n",
       "    </tr>\n",
       "    <tr>\n",
       "      <th>AZ</th>\n",
       "      <td>97</td>\n",
       "    </tr>\n",
       "    <tr>\n",
       "      <th>NC</th>\n",
       "      <td>90</td>\n",
       "    </tr>\n",
       "    <tr>\n",
       "      <th>CO</th>\n",
       "      <td>88</td>\n",
       "    </tr>\n",
       "    <tr>\n",
       "      <th>NJ</th>\n",
       "      <td>86</td>\n",
       "    </tr>\n",
       "    <tr>\n",
       "      <th>WA</th>\n",
       "      <td>54</td>\n",
       "    </tr>\n",
       "    <tr>\n",
       "      <th>VA</th>\n",
       "      <td>48</td>\n",
       "    </tr>\n",
       "    <tr>\n",
       "      <th>OH</th>\n",
       "      <td>35</td>\n",
       "    </tr>\n",
       "    <tr>\n",
       "      <th>UT</th>\n",
       "      <td>33</td>\n",
       "    </tr>\n",
       "    <tr>\n",
       "      <th>FL</th>\n",
       "      <td>27</td>\n",
       "    </tr>\n",
       "    <tr>\n",
       "      <th>IN</th>\n",
       "      <td>23</td>\n",
       "    </tr>\n",
       "    <tr>\n",
       "      <th>DE</th>\n",
       "      <td>11</td>\n",
       "    </tr>\n",
       "    <tr>\n",
       "      <th>Arapahoe</th>\n",
       "      <td>8</td>\n",
       "    </tr>\n",
       "    <tr>\n",
       "      <th>GA</th>\n",
       "      <td>4</td>\n",
       "    </tr>\n",
       "    <tr>\n",
       "      <th>KS</th>\n",
       "      <td>3</td>\n",
       "    </tr>\n",
       "    <tr>\n",
       "      <th>SC</th>\n",
       "      <td>3</td>\n",
       "    </tr>\n",
       "  </tbody>\n",
       "</table>\n",
       "</div>"
      ],
      "text/plain": [
       "               Num_Jobs\n",
       "Location_code          \n",
       "CA                  626\n",
       "TX                  394\n",
       "NY                  345\n",
       "IL                  164\n",
       "PA                  114\n",
       "AZ                   97\n",
       "NC                   90\n",
       "CO                   88\n",
       "NJ                   86\n",
       "WA                   54\n",
       "VA                   48\n",
       "OH                   35\n",
       "UT                   33\n",
       "FL                   27\n",
       "IN                   23\n",
       "DE                   11\n",
       "Arapahoe              8\n",
       "GA                    4\n",
       "KS                    3\n",
       "SC                    3"
      ]
     },
     "execution_count": 97,
     "metadata": {},
     "output_type": "execute_result"
    }
   ],
   "source": [
    "## prepare the dataset for the plot\n",
    "Job_Loc = df.groupby('Location_code')[['Salary_Estimate']].count()\n",
    "Job_Loc = Job_Loc.rename(columns={'Salary_Estimate':'Num_Jobs'})\n",
    "Job_Loc.sort_values(by='Num_Jobs',ascending=False)"
   ]
  },
  {
   "cell_type": "code",
   "execution_count": 98,
   "metadata": {},
   "outputs": [
    {
     "data": {
      "application/vnd.plotly.v1+json": {
       "config": {
        "plotlyServerURL": "https://plot.ly"
       },
       "data": [
        {
         "colorbar": {
          "title": {
           "text": "# of jobs"
          }
         },
         "colorscale": [
          [
           0,
           "rgb(255,245,240)"
          ],
          [
           0.125,
           "rgb(254,224,210)"
          ],
          [
           0.25,
           "rgb(252,187,161)"
          ],
          [
           0.375,
           "rgb(252,146,114)"
          ],
          [
           0.5,
           "rgb(251,106,74)"
          ],
          [
           0.625,
           "rgb(239,59,44)"
          ],
          [
           0.75,
           "rgb(203,24,29)"
          ],
          [
           0.875,
           "rgb(165,15,21)"
          ],
          [
           1,
           "rgb(103,0,13)"
          ]
         ],
         "locationmode": "USA-states",
         "locations": [
          "AZ",
          "Arapahoe",
          "CA",
          "CO",
          "DE",
          "FL",
          "GA",
          "IL",
          "IN",
          "KS",
          "NC",
          "NJ",
          "NY",
          "OH",
          "PA",
          "SC",
          "TX",
          "UT",
          "VA",
          "WA"
         ],
         "type": "choropleth",
         "z": [
          97,
          8,
          626,
          88,
          11,
          27,
          4,
          164,
          23,
          3,
          90,
          86,
          345,
          35,
          114,
          3,
          394,
          33,
          48,
          54
         ]
        }
       ],
       "layout": {
        "geo": {
         "scope": "usa"
        },
        "template": {
         "data": {
          "bar": [
           {
            "error_x": {
             "color": "#2a3f5f"
            },
            "error_y": {
             "color": "#2a3f5f"
            },
            "marker": {
             "line": {
              "color": "#E5ECF6",
              "width": 0.5
             },
             "pattern": {
              "fillmode": "overlay",
              "size": 10,
              "solidity": 0.2
             }
            },
            "type": "bar"
           }
          ],
          "barpolar": [
           {
            "marker": {
             "line": {
              "color": "#E5ECF6",
              "width": 0.5
             },
             "pattern": {
              "fillmode": "overlay",
              "size": 10,
              "solidity": 0.2
             }
            },
            "type": "barpolar"
           }
          ],
          "carpet": [
           {
            "aaxis": {
             "endlinecolor": "#2a3f5f",
             "gridcolor": "white",
             "linecolor": "white",
             "minorgridcolor": "white",
             "startlinecolor": "#2a3f5f"
            },
            "baxis": {
             "endlinecolor": "#2a3f5f",
             "gridcolor": "white",
             "linecolor": "white",
             "minorgridcolor": "white",
             "startlinecolor": "#2a3f5f"
            },
            "type": "carpet"
           }
          ],
          "choropleth": [
           {
            "colorbar": {
             "outlinewidth": 0,
             "ticks": ""
            },
            "type": "choropleth"
           }
          ],
          "contour": [
           {
            "colorbar": {
             "outlinewidth": 0,
             "ticks": ""
            },
            "colorscale": [
             [
              0,
              "#0d0887"
             ],
             [
              0.1111111111111111,
              "#46039f"
             ],
             [
              0.2222222222222222,
              "#7201a8"
             ],
             [
              0.3333333333333333,
              "#9c179e"
             ],
             [
              0.4444444444444444,
              "#bd3786"
             ],
             [
              0.5555555555555556,
              "#d8576b"
             ],
             [
              0.6666666666666666,
              "#ed7953"
             ],
             [
              0.7777777777777778,
              "#fb9f3a"
             ],
             [
              0.8888888888888888,
              "#fdca26"
             ],
             [
              1,
              "#f0f921"
             ]
            ],
            "type": "contour"
           }
          ],
          "contourcarpet": [
           {
            "colorbar": {
             "outlinewidth": 0,
             "ticks": ""
            },
            "type": "contourcarpet"
           }
          ],
          "heatmap": [
           {
            "colorbar": {
             "outlinewidth": 0,
             "ticks": ""
            },
            "colorscale": [
             [
              0,
              "#0d0887"
             ],
             [
              0.1111111111111111,
              "#46039f"
             ],
             [
              0.2222222222222222,
              "#7201a8"
             ],
             [
              0.3333333333333333,
              "#9c179e"
             ],
             [
              0.4444444444444444,
              "#bd3786"
             ],
             [
              0.5555555555555556,
              "#d8576b"
             ],
             [
              0.6666666666666666,
              "#ed7953"
             ],
             [
              0.7777777777777778,
              "#fb9f3a"
             ],
             [
              0.8888888888888888,
              "#fdca26"
             ],
             [
              1,
              "#f0f921"
             ]
            ],
            "type": "heatmap"
           }
          ],
          "heatmapgl": [
           {
            "colorbar": {
             "outlinewidth": 0,
             "ticks": ""
            },
            "colorscale": [
             [
              0,
              "#0d0887"
             ],
             [
              0.1111111111111111,
              "#46039f"
             ],
             [
              0.2222222222222222,
              "#7201a8"
             ],
             [
              0.3333333333333333,
              "#9c179e"
             ],
             [
              0.4444444444444444,
              "#bd3786"
             ],
             [
              0.5555555555555556,
              "#d8576b"
             ],
             [
              0.6666666666666666,
              "#ed7953"
             ],
             [
              0.7777777777777778,
              "#fb9f3a"
             ],
             [
              0.8888888888888888,
              "#fdca26"
             ],
             [
              1,
              "#f0f921"
             ]
            ],
            "type": "heatmapgl"
           }
          ],
          "histogram": [
           {
            "marker": {
             "pattern": {
              "fillmode": "overlay",
              "size": 10,
              "solidity": 0.2
             }
            },
            "type": "histogram"
           }
          ],
          "histogram2d": [
           {
            "colorbar": {
             "outlinewidth": 0,
             "ticks": ""
            },
            "colorscale": [
             [
              0,
              "#0d0887"
             ],
             [
              0.1111111111111111,
              "#46039f"
             ],
             [
              0.2222222222222222,
              "#7201a8"
             ],
             [
              0.3333333333333333,
              "#9c179e"
             ],
             [
              0.4444444444444444,
              "#bd3786"
             ],
             [
              0.5555555555555556,
              "#d8576b"
             ],
             [
              0.6666666666666666,
              "#ed7953"
             ],
             [
              0.7777777777777778,
              "#fb9f3a"
             ],
             [
              0.8888888888888888,
              "#fdca26"
             ],
             [
              1,
              "#f0f921"
             ]
            ],
            "type": "histogram2d"
           }
          ],
          "histogram2dcontour": [
           {
            "colorbar": {
             "outlinewidth": 0,
             "ticks": ""
            },
            "colorscale": [
             [
              0,
              "#0d0887"
             ],
             [
              0.1111111111111111,
              "#46039f"
             ],
             [
              0.2222222222222222,
              "#7201a8"
             ],
             [
              0.3333333333333333,
              "#9c179e"
             ],
             [
              0.4444444444444444,
              "#bd3786"
             ],
             [
              0.5555555555555556,
              "#d8576b"
             ],
             [
              0.6666666666666666,
              "#ed7953"
             ],
             [
              0.7777777777777778,
              "#fb9f3a"
             ],
             [
              0.8888888888888888,
              "#fdca26"
             ],
             [
              1,
              "#f0f921"
             ]
            ],
            "type": "histogram2dcontour"
           }
          ],
          "mesh3d": [
           {
            "colorbar": {
             "outlinewidth": 0,
             "ticks": ""
            },
            "type": "mesh3d"
           }
          ],
          "parcoords": [
           {
            "line": {
             "colorbar": {
              "outlinewidth": 0,
              "ticks": ""
             }
            },
            "type": "parcoords"
           }
          ],
          "pie": [
           {
            "automargin": true,
            "type": "pie"
           }
          ],
          "scatter": [
           {
            "marker": {
             "colorbar": {
              "outlinewidth": 0,
              "ticks": ""
             }
            },
            "type": "scatter"
           }
          ],
          "scatter3d": [
           {
            "line": {
             "colorbar": {
              "outlinewidth": 0,
              "ticks": ""
             }
            },
            "marker": {
             "colorbar": {
              "outlinewidth": 0,
              "ticks": ""
             }
            },
            "type": "scatter3d"
           }
          ],
          "scattercarpet": [
           {
            "marker": {
             "colorbar": {
              "outlinewidth": 0,
              "ticks": ""
             }
            },
            "type": "scattercarpet"
           }
          ],
          "scattergeo": [
           {
            "marker": {
             "colorbar": {
              "outlinewidth": 0,
              "ticks": ""
             }
            },
            "type": "scattergeo"
           }
          ],
          "scattergl": [
           {
            "marker": {
             "colorbar": {
              "outlinewidth": 0,
              "ticks": ""
             }
            },
            "type": "scattergl"
           }
          ],
          "scattermapbox": [
           {
            "marker": {
             "colorbar": {
              "outlinewidth": 0,
              "ticks": ""
             }
            },
            "type": "scattermapbox"
           }
          ],
          "scatterpolar": [
           {
            "marker": {
             "colorbar": {
              "outlinewidth": 0,
              "ticks": ""
             }
            },
            "type": "scatterpolar"
           }
          ],
          "scatterpolargl": [
           {
            "marker": {
             "colorbar": {
              "outlinewidth": 0,
              "ticks": ""
             }
            },
            "type": "scatterpolargl"
           }
          ],
          "scatterternary": [
           {
            "marker": {
             "colorbar": {
              "outlinewidth": 0,
              "ticks": ""
             }
            },
            "type": "scatterternary"
           }
          ],
          "surface": [
           {
            "colorbar": {
             "outlinewidth": 0,
             "ticks": ""
            },
            "colorscale": [
             [
              0,
              "#0d0887"
             ],
             [
              0.1111111111111111,
              "#46039f"
             ],
             [
              0.2222222222222222,
              "#7201a8"
             ],
             [
              0.3333333333333333,
              "#9c179e"
             ],
             [
              0.4444444444444444,
              "#bd3786"
             ],
             [
              0.5555555555555556,
              "#d8576b"
             ],
             [
              0.6666666666666666,
              "#ed7953"
             ],
             [
              0.7777777777777778,
              "#fb9f3a"
             ],
             [
              0.8888888888888888,
              "#fdca26"
             ],
             [
              1,
              "#f0f921"
             ]
            ],
            "type": "surface"
           }
          ],
          "table": [
           {
            "cells": {
             "fill": {
              "color": "#EBF0F8"
             },
             "line": {
              "color": "white"
             }
            },
            "header": {
             "fill": {
              "color": "#C8D4E3"
             },
             "line": {
              "color": "white"
             }
            },
            "type": "table"
           }
          ]
         },
         "layout": {
          "annotationdefaults": {
           "arrowcolor": "#2a3f5f",
           "arrowhead": 0,
           "arrowwidth": 1
          },
          "autotypenumbers": "strict",
          "coloraxis": {
           "colorbar": {
            "outlinewidth": 0,
            "ticks": ""
           }
          },
          "colorscale": {
           "diverging": [
            [
             0,
             "#8e0152"
            ],
            [
             0.1,
             "#c51b7d"
            ],
            [
             0.2,
             "#de77ae"
            ],
            [
             0.3,
             "#f1b6da"
            ],
            [
             0.4,
             "#fde0ef"
            ],
            [
             0.5,
             "#f7f7f7"
            ],
            [
             0.6,
             "#e6f5d0"
            ],
            [
             0.7,
             "#b8e186"
            ],
            [
             0.8,
             "#7fbc41"
            ],
            [
             0.9,
             "#4d9221"
            ],
            [
             1,
             "#276419"
            ]
           ],
           "sequential": [
            [
             0,
             "#0d0887"
            ],
            [
             0.1111111111111111,
             "#46039f"
            ],
            [
             0.2222222222222222,
             "#7201a8"
            ],
            [
             0.3333333333333333,
             "#9c179e"
            ],
            [
             0.4444444444444444,
             "#bd3786"
            ],
            [
             0.5555555555555556,
             "#d8576b"
            ],
            [
             0.6666666666666666,
             "#ed7953"
            ],
            [
             0.7777777777777778,
             "#fb9f3a"
            ],
            [
             0.8888888888888888,
             "#fdca26"
            ],
            [
             1,
             "#f0f921"
            ]
           ],
           "sequentialminus": [
            [
             0,
             "#0d0887"
            ],
            [
             0.1111111111111111,
             "#46039f"
            ],
            [
             0.2222222222222222,
             "#7201a8"
            ],
            [
             0.3333333333333333,
             "#9c179e"
            ],
            [
             0.4444444444444444,
             "#bd3786"
            ],
            [
             0.5555555555555556,
             "#d8576b"
            ],
            [
             0.6666666666666666,
             "#ed7953"
            ],
            [
             0.7777777777777778,
             "#fb9f3a"
            ],
            [
             0.8888888888888888,
             "#fdca26"
            ],
            [
             1,
             "#f0f921"
            ]
           ]
          },
          "colorway": [
           "#636efa",
           "#EF553B",
           "#00cc96",
           "#ab63fa",
           "#FFA15A",
           "#19d3f3",
           "#FF6692",
           "#B6E880",
           "#FF97FF",
           "#FECB52"
          ],
          "font": {
           "color": "#2a3f5f"
          },
          "geo": {
           "bgcolor": "white",
           "lakecolor": "white",
           "landcolor": "#E5ECF6",
           "showlakes": true,
           "showland": true,
           "subunitcolor": "white"
          },
          "hoverlabel": {
           "align": "left"
          },
          "hovermode": "closest",
          "mapbox": {
           "style": "light"
          },
          "paper_bgcolor": "white",
          "plot_bgcolor": "#E5ECF6",
          "polar": {
           "angularaxis": {
            "gridcolor": "white",
            "linecolor": "white",
            "ticks": ""
           },
           "bgcolor": "#E5ECF6",
           "radialaxis": {
            "gridcolor": "white",
            "linecolor": "white",
            "ticks": ""
           }
          },
          "scene": {
           "xaxis": {
            "backgroundcolor": "#E5ECF6",
            "gridcolor": "white",
            "gridwidth": 2,
            "linecolor": "white",
            "showbackground": true,
            "ticks": "",
            "zerolinecolor": "white"
           },
           "yaxis": {
            "backgroundcolor": "#E5ECF6",
            "gridcolor": "white",
            "gridwidth": 2,
            "linecolor": "white",
            "showbackground": true,
            "ticks": "",
            "zerolinecolor": "white"
           },
           "zaxis": {
            "backgroundcolor": "#E5ECF6",
            "gridcolor": "white",
            "gridwidth": 2,
            "linecolor": "white",
            "showbackground": true,
            "ticks": "",
            "zerolinecolor": "white"
           }
          },
          "shapedefaults": {
           "line": {
            "color": "#2a3f5f"
           }
          },
          "ternary": {
           "aaxis": {
            "gridcolor": "white",
            "linecolor": "white",
            "ticks": ""
           },
           "baxis": {
            "gridcolor": "white",
            "linecolor": "white",
            "ticks": ""
           },
           "bgcolor": "#E5ECF6",
           "caxis": {
            "gridcolor": "white",
            "linecolor": "white",
            "ticks": ""
           }
          },
          "title": {
           "x": 0.05
          },
          "xaxis": {
           "automargin": true,
           "gridcolor": "white",
           "linecolor": "white",
           "ticks": "",
           "title": {
            "standoff": 15
           },
           "zerolinecolor": "white",
           "zerolinewidth": 2
          },
          "yaxis": {
           "automargin": true,
           "gridcolor": "white",
           "linecolor": "white",
           "ticks": "",
           "title": {
            "standoff": 15
           },
           "zerolinecolor": "white",
           "zerolinewidth": 2
          }
         }
        },
        "title": {
         "text": "# of Data-related jobs in the US"
        }
       }
      }
     },
     "metadata": {},
     "output_type": "display_data"
    }
   ],
   "source": [
    "import plotly.graph_objects as go\n",
    "fig = go.Figure(data=go.Choropleth( \n",
    "    locations=Job_Loc.index,\n",
    "    z = Job_Loc['Num_Jobs'],\n",
    "    locationmode = 'USA-states',\n",
    "    colorscale = 'Reds', \n",
    "    colorbar_title = '# of jobs',\n",
    ")) \n",
    "fig.update_layout( \n",
    "    title_text = '# of Data-related jobs in the US',\n",
    "    geo_scope='usa'\n",
    ") \n",
    "fig.show()"
   ]
  },
  {
   "cell_type": "markdown",
   "metadata": {},
   "source": [
    "## Average Salary per State"
   ]
  },
  {
   "cell_type": "code",
   "execution_count": 99,
   "metadata": {},
   "outputs": [
    {
     "data": {
      "text/html": [
       "<div>\n",
       "<style scoped>\n",
       "    .dataframe tbody tr th:only-of-type {\n",
       "        vertical-align: middle;\n",
       "    }\n",
       "\n",
       "    .dataframe tbody tr th {\n",
       "        vertical-align: top;\n",
       "    }\n",
       "\n",
       "    .dataframe thead th {\n",
       "        text-align: right;\n",
       "    }\n",
       "</style>\n",
       "<table border=\"1\" class=\"dataframe\">\n",
       "  <thead>\n",
       "    <tr style=\"text-align: right;\">\n",
       "      <th></th>\n",
       "      <th>Average_Salary</th>\n",
       "    </tr>\n",
       "    <tr>\n",
       "      <th>Location_code</th>\n",
       "      <th></th>\n",
       "    </tr>\n",
       "  </thead>\n",
       "  <tbody>\n",
       "    <tr>\n",
       "      <th>CA</th>\n",
       "      <td>88.432109</td>\n",
       "    </tr>\n",
       "    <tr>\n",
       "      <th>IL</th>\n",
       "      <td>78.310976</td>\n",
       "    </tr>\n",
       "    <tr>\n",
       "      <th>CO</th>\n",
       "      <td>73.619318</td>\n",
       "    </tr>\n",
       "    <tr>\n",
       "      <th>NJ</th>\n",
       "      <td>73.000000</td>\n",
       "    </tr>\n",
       "    <tr>\n",
       "      <th>Arapahoe</th>\n",
       "      <td>72.250000</td>\n",
       "    </tr>\n",
       "    <tr>\n",
       "      <th>NY</th>\n",
       "      <td>71.411594</td>\n",
       "    </tr>\n",
       "    <tr>\n",
       "      <th>AZ</th>\n",
       "      <td>70.788660</td>\n",
       "    </tr>\n",
       "    <tr>\n",
       "      <th>SC</th>\n",
       "      <td>68.333333</td>\n",
       "    </tr>\n",
       "    <tr>\n",
       "      <th>NC</th>\n",
       "      <td>68.111111</td>\n",
       "    </tr>\n",
       "    <tr>\n",
       "      <th>VA</th>\n",
       "      <td>65.187500</td>\n",
       "    </tr>\n",
       "    <tr>\n",
       "      <th>WA</th>\n",
       "      <td>63.574074</td>\n",
       "    </tr>\n",
       "    <tr>\n",
       "      <th>PA</th>\n",
       "      <td>61.728070</td>\n",
       "    </tr>\n",
       "    <tr>\n",
       "      <th>DE</th>\n",
       "      <td>59.727273</td>\n",
       "    </tr>\n",
       "    <tr>\n",
       "      <th>TX</th>\n",
       "      <td>58.751269</td>\n",
       "    </tr>\n",
       "    <tr>\n",
       "      <th>FL</th>\n",
       "      <td>51.851852</td>\n",
       "    </tr>\n",
       "    <tr>\n",
       "      <th>KS</th>\n",
       "      <td>51.500000</td>\n",
       "    </tr>\n",
       "    <tr>\n",
       "      <th>IN</th>\n",
       "      <td>47.500000</td>\n",
       "    </tr>\n",
       "    <tr>\n",
       "      <th>OH</th>\n",
       "      <td>45.200000</td>\n",
       "    </tr>\n",
       "    <tr>\n",
       "      <th>GA</th>\n",
       "      <td>44.000000</td>\n",
       "    </tr>\n",
       "    <tr>\n",
       "      <th>UT</th>\n",
       "      <td>37.530303</td>\n",
       "    </tr>\n",
       "  </tbody>\n",
       "</table>\n",
       "</div>"
      ],
      "text/plain": [
       "               Average_Salary\n",
       "Location_code                \n",
       "CA                  88.432109\n",
       "IL                  78.310976\n",
       "CO                  73.619318\n",
       "NJ                  73.000000\n",
       "Arapahoe            72.250000\n",
       "NY                  71.411594\n",
       "AZ                  70.788660\n",
       "SC                  68.333333\n",
       "NC                  68.111111\n",
       "VA                  65.187500\n",
       "WA                  63.574074\n",
       "PA                  61.728070\n",
       "DE                  59.727273\n",
       "TX                  58.751269\n",
       "FL                  51.851852\n",
       "KS                  51.500000\n",
       "IN                  47.500000\n",
       "OH                  45.200000\n",
       "GA                  44.000000\n",
       "UT                  37.530303"
      ]
     },
     "execution_count": 99,
     "metadata": {},
     "output_type": "execute_result"
    }
   ],
   "source": [
    "Loc_Mean_Sal = df.groupby('Location_code')[['Salary_Estimate']].mean()\n",
    "Loc_Mean_Sal = Loc_Mean_Sal.rename(columns={'Salary_Estimate':'Average_Salary'})\n",
    "Loc_Mean_Sal.sort_values(by='Average_Salary',ascending=False)"
   ]
  },
  {
   "cell_type": "code",
   "execution_count": 100,
   "metadata": {},
   "outputs": [
    {
     "data": {
      "application/vnd.plotly.v1+json": {
       "config": {
        "plotlyServerURL": "https://plot.ly"
       },
       "data": [
        {
         "colorbar": {
          "title": {
           "text": "Average Salary (K)"
          }
         },
         "colorscale": [
          [
           0,
           "rgb(255,245,240)"
          ],
          [
           0.125,
           "rgb(254,224,210)"
          ],
          [
           0.25,
           "rgb(252,187,161)"
          ],
          [
           0.375,
           "rgb(252,146,114)"
          ],
          [
           0.5,
           "rgb(251,106,74)"
          ],
          [
           0.625,
           "rgb(239,59,44)"
          ],
          [
           0.75,
           "rgb(203,24,29)"
          ],
          [
           0.875,
           "rgb(165,15,21)"
          ],
          [
           1,
           "rgb(103,0,13)"
          ]
         ],
         "locationmode": "USA-states",
         "locations": [
          "AZ",
          "Arapahoe",
          "CA",
          "CO",
          "DE",
          "FL",
          "GA",
          "IL",
          "IN",
          "KS",
          "NC",
          "NJ",
          "NY",
          "OH",
          "PA",
          "SC",
          "TX",
          "UT",
          "VA",
          "WA"
         ],
         "type": "choropleth",
         "z": [
          70.78865979381443,
          72.25,
          88.43210862619809,
          73.61931818181819,
          59.72727272727273,
          51.851851851851855,
          44,
          78.3109756097561,
          47.5,
          51.5,
          68.11111111111111,
          73,
          71.41159420289856,
          45.2,
          61.728070175438596,
          68.33333333333333,
          58.75126903553299,
          37.53030303030303,
          65.1875,
          63.574074074074076
         ]
        }
       ],
       "layout": {
        "geo": {
         "scope": "usa"
        },
        "template": {
         "data": {
          "bar": [
           {
            "error_x": {
             "color": "#2a3f5f"
            },
            "error_y": {
             "color": "#2a3f5f"
            },
            "marker": {
             "line": {
              "color": "#E5ECF6",
              "width": 0.5
             },
             "pattern": {
              "fillmode": "overlay",
              "size": 10,
              "solidity": 0.2
             }
            },
            "type": "bar"
           }
          ],
          "barpolar": [
           {
            "marker": {
             "line": {
              "color": "#E5ECF6",
              "width": 0.5
             },
             "pattern": {
              "fillmode": "overlay",
              "size": 10,
              "solidity": 0.2
             }
            },
            "type": "barpolar"
           }
          ],
          "carpet": [
           {
            "aaxis": {
             "endlinecolor": "#2a3f5f",
             "gridcolor": "white",
             "linecolor": "white",
             "minorgridcolor": "white",
             "startlinecolor": "#2a3f5f"
            },
            "baxis": {
             "endlinecolor": "#2a3f5f",
             "gridcolor": "white",
             "linecolor": "white",
             "minorgridcolor": "white",
             "startlinecolor": "#2a3f5f"
            },
            "type": "carpet"
           }
          ],
          "choropleth": [
           {
            "colorbar": {
             "outlinewidth": 0,
             "ticks": ""
            },
            "type": "choropleth"
           }
          ],
          "contour": [
           {
            "colorbar": {
             "outlinewidth": 0,
             "ticks": ""
            },
            "colorscale": [
             [
              0,
              "#0d0887"
             ],
             [
              0.1111111111111111,
              "#46039f"
             ],
             [
              0.2222222222222222,
              "#7201a8"
             ],
             [
              0.3333333333333333,
              "#9c179e"
             ],
             [
              0.4444444444444444,
              "#bd3786"
             ],
             [
              0.5555555555555556,
              "#d8576b"
             ],
             [
              0.6666666666666666,
              "#ed7953"
             ],
             [
              0.7777777777777778,
              "#fb9f3a"
             ],
             [
              0.8888888888888888,
              "#fdca26"
             ],
             [
              1,
              "#f0f921"
             ]
            ],
            "type": "contour"
           }
          ],
          "contourcarpet": [
           {
            "colorbar": {
             "outlinewidth": 0,
             "ticks": ""
            },
            "type": "contourcarpet"
           }
          ],
          "heatmap": [
           {
            "colorbar": {
             "outlinewidth": 0,
             "ticks": ""
            },
            "colorscale": [
             [
              0,
              "#0d0887"
             ],
             [
              0.1111111111111111,
              "#46039f"
             ],
             [
              0.2222222222222222,
              "#7201a8"
             ],
             [
              0.3333333333333333,
              "#9c179e"
             ],
             [
              0.4444444444444444,
              "#bd3786"
             ],
             [
              0.5555555555555556,
              "#d8576b"
             ],
             [
              0.6666666666666666,
              "#ed7953"
             ],
             [
              0.7777777777777778,
              "#fb9f3a"
             ],
             [
              0.8888888888888888,
              "#fdca26"
             ],
             [
              1,
              "#f0f921"
             ]
            ],
            "type": "heatmap"
           }
          ],
          "heatmapgl": [
           {
            "colorbar": {
             "outlinewidth": 0,
             "ticks": ""
            },
            "colorscale": [
             [
              0,
              "#0d0887"
             ],
             [
              0.1111111111111111,
              "#46039f"
             ],
             [
              0.2222222222222222,
              "#7201a8"
             ],
             [
              0.3333333333333333,
              "#9c179e"
             ],
             [
              0.4444444444444444,
              "#bd3786"
             ],
             [
              0.5555555555555556,
              "#d8576b"
             ],
             [
              0.6666666666666666,
              "#ed7953"
             ],
             [
              0.7777777777777778,
              "#fb9f3a"
             ],
             [
              0.8888888888888888,
              "#fdca26"
             ],
             [
              1,
              "#f0f921"
             ]
            ],
            "type": "heatmapgl"
           }
          ],
          "histogram": [
           {
            "marker": {
             "pattern": {
              "fillmode": "overlay",
              "size": 10,
              "solidity": 0.2
             }
            },
            "type": "histogram"
           }
          ],
          "histogram2d": [
           {
            "colorbar": {
             "outlinewidth": 0,
             "ticks": ""
            },
            "colorscale": [
             [
              0,
              "#0d0887"
             ],
             [
              0.1111111111111111,
              "#46039f"
             ],
             [
              0.2222222222222222,
              "#7201a8"
             ],
             [
              0.3333333333333333,
              "#9c179e"
             ],
             [
              0.4444444444444444,
              "#bd3786"
             ],
             [
              0.5555555555555556,
              "#d8576b"
             ],
             [
              0.6666666666666666,
              "#ed7953"
             ],
             [
              0.7777777777777778,
              "#fb9f3a"
             ],
             [
              0.8888888888888888,
              "#fdca26"
             ],
             [
              1,
              "#f0f921"
             ]
            ],
            "type": "histogram2d"
           }
          ],
          "histogram2dcontour": [
           {
            "colorbar": {
             "outlinewidth": 0,
             "ticks": ""
            },
            "colorscale": [
             [
              0,
              "#0d0887"
             ],
             [
              0.1111111111111111,
              "#46039f"
             ],
             [
              0.2222222222222222,
              "#7201a8"
             ],
             [
              0.3333333333333333,
              "#9c179e"
             ],
             [
              0.4444444444444444,
              "#bd3786"
             ],
             [
              0.5555555555555556,
              "#d8576b"
             ],
             [
              0.6666666666666666,
              "#ed7953"
             ],
             [
              0.7777777777777778,
              "#fb9f3a"
             ],
             [
              0.8888888888888888,
              "#fdca26"
             ],
             [
              1,
              "#f0f921"
             ]
            ],
            "type": "histogram2dcontour"
           }
          ],
          "mesh3d": [
           {
            "colorbar": {
             "outlinewidth": 0,
             "ticks": ""
            },
            "type": "mesh3d"
           }
          ],
          "parcoords": [
           {
            "line": {
             "colorbar": {
              "outlinewidth": 0,
              "ticks": ""
             }
            },
            "type": "parcoords"
           }
          ],
          "pie": [
           {
            "automargin": true,
            "type": "pie"
           }
          ],
          "scatter": [
           {
            "marker": {
             "colorbar": {
              "outlinewidth": 0,
              "ticks": ""
             }
            },
            "type": "scatter"
           }
          ],
          "scatter3d": [
           {
            "line": {
             "colorbar": {
              "outlinewidth": 0,
              "ticks": ""
             }
            },
            "marker": {
             "colorbar": {
              "outlinewidth": 0,
              "ticks": ""
             }
            },
            "type": "scatter3d"
           }
          ],
          "scattercarpet": [
           {
            "marker": {
             "colorbar": {
              "outlinewidth": 0,
              "ticks": ""
             }
            },
            "type": "scattercarpet"
           }
          ],
          "scattergeo": [
           {
            "marker": {
             "colorbar": {
              "outlinewidth": 0,
              "ticks": ""
             }
            },
            "type": "scattergeo"
           }
          ],
          "scattergl": [
           {
            "marker": {
             "colorbar": {
              "outlinewidth": 0,
              "ticks": ""
             }
            },
            "type": "scattergl"
           }
          ],
          "scattermapbox": [
           {
            "marker": {
             "colorbar": {
              "outlinewidth": 0,
              "ticks": ""
             }
            },
            "type": "scattermapbox"
           }
          ],
          "scatterpolar": [
           {
            "marker": {
             "colorbar": {
              "outlinewidth": 0,
              "ticks": ""
             }
            },
            "type": "scatterpolar"
           }
          ],
          "scatterpolargl": [
           {
            "marker": {
             "colorbar": {
              "outlinewidth": 0,
              "ticks": ""
             }
            },
            "type": "scatterpolargl"
           }
          ],
          "scatterternary": [
           {
            "marker": {
             "colorbar": {
              "outlinewidth": 0,
              "ticks": ""
             }
            },
            "type": "scatterternary"
           }
          ],
          "surface": [
           {
            "colorbar": {
             "outlinewidth": 0,
             "ticks": ""
            },
            "colorscale": [
             [
              0,
              "#0d0887"
             ],
             [
              0.1111111111111111,
              "#46039f"
             ],
             [
              0.2222222222222222,
              "#7201a8"
             ],
             [
              0.3333333333333333,
              "#9c179e"
             ],
             [
              0.4444444444444444,
              "#bd3786"
             ],
             [
              0.5555555555555556,
              "#d8576b"
             ],
             [
              0.6666666666666666,
              "#ed7953"
             ],
             [
              0.7777777777777778,
              "#fb9f3a"
             ],
             [
              0.8888888888888888,
              "#fdca26"
             ],
             [
              1,
              "#f0f921"
             ]
            ],
            "type": "surface"
           }
          ],
          "table": [
           {
            "cells": {
             "fill": {
              "color": "#EBF0F8"
             },
             "line": {
              "color": "white"
             }
            },
            "header": {
             "fill": {
              "color": "#C8D4E3"
             },
             "line": {
              "color": "white"
             }
            },
            "type": "table"
           }
          ]
         },
         "layout": {
          "annotationdefaults": {
           "arrowcolor": "#2a3f5f",
           "arrowhead": 0,
           "arrowwidth": 1
          },
          "autotypenumbers": "strict",
          "coloraxis": {
           "colorbar": {
            "outlinewidth": 0,
            "ticks": ""
           }
          },
          "colorscale": {
           "diverging": [
            [
             0,
             "#8e0152"
            ],
            [
             0.1,
             "#c51b7d"
            ],
            [
             0.2,
             "#de77ae"
            ],
            [
             0.3,
             "#f1b6da"
            ],
            [
             0.4,
             "#fde0ef"
            ],
            [
             0.5,
             "#f7f7f7"
            ],
            [
             0.6,
             "#e6f5d0"
            ],
            [
             0.7,
             "#b8e186"
            ],
            [
             0.8,
             "#7fbc41"
            ],
            [
             0.9,
             "#4d9221"
            ],
            [
             1,
             "#276419"
            ]
           ],
           "sequential": [
            [
             0,
             "#0d0887"
            ],
            [
             0.1111111111111111,
             "#46039f"
            ],
            [
             0.2222222222222222,
             "#7201a8"
            ],
            [
             0.3333333333333333,
             "#9c179e"
            ],
            [
             0.4444444444444444,
             "#bd3786"
            ],
            [
             0.5555555555555556,
             "#d8576b"
            ],
            [
             0.6666666666666666,
             "#ed7953"
            ],
            [
             0.7777777777777778,
             "#fb9f3a"
            ],
            [
             0.8888888888888888,
             "#fdca26"
            ],
            [
             1,
             "#f0f921"
            ]
           ],
           "sequentialminus": [
            [
             0,
             "#0d0887"
            ],
            [
             0.1111111111111111,
             "#46039f"
            ],
            [
             0.2222222222222222,
             "#7201a8"
            ],
            [
             0.3333333333333333,
             "#9c179e"
            ],
            [
             0.4444444444444444,
             "#bd3786"
            ],
            [
             0.5555555555555556,
             "#d8576b"
            ],
            [
             0.6666666666666666,
             "#ed7953"
            ],
            [
             0.7777777777777778,
             "#fb9f3a"
            ],
            [
             0.8888888888888888,
             "#fdca26"
            ],
            [
             1,
             "#f0f921"
            ]
           ]
          },
          "colorway": [
           "#636efa",
           "#EF553B",
           "#00cc96",
           "#ab63fa",
           "#FFA15A",
           "#19d3f3",
           "#FF6692",
           "#B6E880",
           "#FF97FF",
           "#FECB52"
          ],
          "font": {
           "color": "#2a3f5f"
          },
          "geo": {
           "bgcolor": "white",
           "lakecolor": "white",
           "landcolor": "#E5ECF6",
           "showlakes": true,
           "showland": true,
           "subunitcolor": "white"
          },
          "hoverlabel": {
           "align": "left"
          },
          "hovermode": "closest",
          "mapbox": {
           "style": "light"
          },
          "paper_bgcolor": "white",
          "plot_bgcolor": "#E5ECF6",
          "polar": {
           "angularaxis": {
            "gridcolor": "white",
            "linecolor": "white",
            "ticks": ""
           },
           "bgcolor": "#E5ECF6",
           "radialaxis": {
            "gridcolor": "white",
            "linecolor": "white",
            "ticks": ""
           }
          },
          "scene": {
           "xaxis": {
            "backgroundcolor": "#E5ECF6",
            "gridcolor": "white",
            "gridwidth": 2,
            "linecolor": "white",
            "showbackground": true,
            "ticks": "",
            "zerolinecolor": "white"
           },
           "yaxis": {
            "backgroundcolor": "#E5ECF6",
            "gridcolor": "white",
            "gridwidth": 2,
            "linecolor": "white",
            "showbackground": true,
            "ticks": "",
            "zerolinecolor": "white"
           },
           "zaxis": {
            "backgroundcolor": "#E5ECF6",
            "gridcolor": "white",
            "gridwidth": 2,
            "linecolor": "white",
            "showbackground": true,
            "ticks": "",
            "zerolinecolor": "white"
           }
          },
          "shapedefaults": {
           "line": {
            "color": "#2a3f5f"
           }
          },
          "ternary": {
           "aaxis": {
            "gridcolor": "white",
            "linecolor": "white",
            "ticks": ""
           },
           "baxis": {
            "gridcolor": "white",
            "linecolor": "white",
            "ticks": ""
           },
           "bgcolor": "#E5ECF6",
           "caxis": {
            "gridcolor": "white",
            "linecolor": "white",
            "ticks": ""
           }
          },
          "title": {
           "x": 0.05
          },
          "xaxis": {
           "automargin": true,
           "gridcolor": "white",
           "linecolor": "white",
           "ticks": "",
           "title": {
            "standoff": 15
           },
           "zerolinecolor": "white",
           "zerolinewidth": 2
          },
          "yaxis": {
           "automargin": true,
           "gridcolor": "white",
           "linecolor": "white",
           "ticks": "",
           "title": {
            "standoff": 15
           },
           "zerolinecolor": "white",
           "zerolinewidth": 2
          }
         }
        },
        "title": {
         "text": "Average salary for Data-related jobs in the US"
        }
       }
      }
     },
     "metadata": {},
     "output_type": "display_data"
    }
   ],
   "source": [
    "fig = go.Figure(data=go.Choropleth( \n",
    "    locations=Loc_Mean_Sal.index,\n",
    "    z = Loc_Mean_Sal['Average_Salary'],\n",
    "    locationmode = 'USA-states',\n",
    "    colorscale = 'Reds', \n",
    "    colorbar_title = 'Average Salary (K)',\n",
    ")) \n",
    "fig.update_layout( \n",
    "    title_text = 'Average salary for Data-related jobs in the US',\n",
    "    geo_scope='usa'\n",
    ") \n",
    "fig.show()"
   ]
  },
  {
   "cell_type": "markdown",
   "metadata": {},
   "source": [
    "## Looking at 3 States"
   ]
  },
  {
   "cell_type": "markdown",
   "metadata": {},
   "source": [
    "### CA"
   ]
  },
  {
   "cell_type": "code",
   "execution_count": 101,
   "metadata": {},
   "outputs": [
    {
     "data": {
      "text/html": [
       "<div>\n",
       "<style scoped>\n",
       "    .dataframe tbody tr th:only-of-type {\n",
       "        vertical-align: middle;\n",
       "    }\n",
       "\n",
       "    .dataframe tbody tr th {\n",
       "        vertical-align: top;\n",
       "    }\n",
       "\n",
       "    .dataframe thead th {\n",
       "        text-align: right;\n",
       "    }\n",
       "</style>\n",
       "<table border=\"1\" class=\"dataframe\">\n",
       "  <thead>\n",
       "    <tr style=\"text-align: right;\">\n",
       "      <th></th>\n",
       "      <th>Sector</th>\n",
       "      <th>Count</th>\n",
       "      <th>Average Salary</th>\n",
       "    </tr>\n",
       "  </thead>\n",
       "  <tbody>\n",
       "    <tr>\n",
       "      <th>19</th>\n",
       "      <td>Arts, Entertainment &amp; Recreation</td>\n",
       "      <td>2</td>\n",
       "      <td>121.000000</td>\n",
       "    </tr>\n",
       "    <tr>\n",
       "      <th>10</th>\n",
       "      <td>Accounting &amp; Legal</td>\n",
       "      <td>12</td>\n",
       "      <td>101.708333</td>\n",
       "    </tr>\n",
       "    <tr>\n",
       "      <th>18</th>\n",
       "      <td>Oil, Gas, Energy &amp; Utilities</td>\n",
       "      <td>2</td>\n",
       "      <td>95.750000</td>\n",
       "    </tr>\n",
       "    <tr>\n",
       "      <th>12</th>\n",
       "      <td>Real Estate</td>\n",
       "      <td>7</td>\n",
       "      <td>94.714286</td>\n",
       "    </tr>\n",
       "    <tr>\n",
       "      <th>0</th>\n",
       "      <td>Information Technology</td>\n",
       "      <td>185</td>\n",
       "      <td>94.254054</td>\n",
       "    </tr>\n",
       "    <tr>\n",
       "      <th>3</th>\n",
       "      <td>Health Care</td>\n",
       "      <td>37</td>\n",
       "      <td>93.756757</td>\n",
       "    </tr>\n",
       "    <tr>\n",
       "      <th>8</th>\n",
       "      <td>Biotech &amp; Pharmaceuticals</td>\n",
       "      <td>16</td>\n",
       "      <td>89.718750</td>\n",
       "    </tr>\n",
       "    <tr>\n",
       "      <th>9</th>\n",
       "      <td>Manufacturing</td>\n",
       "      <td>13</td>\n",
       "      <td>88.192308</td>\n",
       "    </tr>\n",
       "    <tr>\n",
       "      <th>1</th>\n",
       "      <td>Business Services</td>\n",
       "      <td>120</td>\n",
       "      <td>87.004167</td>\n",
       "    </tr>\n",
       "    <tr>\n",
       "      <th>20</th>\n",
       "      <td>Transportation &amp; Logistics</td>\n",
       "      <td>2</td>\n",
       "      <td>86.500000</td>\n",
       "    </tr>\n",
       "    <tr>\n",
       "      <th>2</th>\n",
       "      <td>-1</td>\n",
       "      <td>107</td>\n",
       "      <td>84.771028</td>\n",
       "    </tr>\n",
       "    <tr>\n",
       "      <th>6</th>\n",
       "      <td>Education</td>\n",
       "      <td>20</td>\n",
       "      <td>83.725000</td>\n",
       "    </tr>\n",
       "    <tr>\n",
       "      <th>7</th>\n",
       "      <td>Insurance</td>\n",
       "      <td>16</td>\n",
       "      <td>83.625000</td>\n",
       "    </tr>\n",
       "    <tr>\n",
       "      <th>4</th>\n",
       "      <td>Finance</td>\n",
       "      <td>31</td>\n",
       "      <td>83.596774</td>\n",
       "    </tr>\n",
       "    <tr>\n",
       "      <th>13</th>\n",
       "      <td>Government</td>\n",
       "      <td>7</td>\n",
       "      <td>83.571429</td>\n",
       "    </tr>\n",
       "    <tr>\n",
       "      <th>11</th>\n",
       "      <td>Retail</td>\n",
       "      <td>8</td>\n",
       "      <td>79.062500</td>\n",
       "    </tr>\n",
       "    <tr>\n",
       "      <th>14</th>\n",
       "      <td>Consumer Services</td>\n",
       "      <td>7</td>\n",
       "      <td>78.357143</td>\n",
       "    </tr>\n",
       "    <tr>\n",
       "      <th>15</th>\n",
       "      <td>Aerospace &amp; Defense</td>\n",
       "      <td>7</td>\n",
       "      <td>75.785714</td>\n",
       "    </tr>\n",
       "    <tr>\n",
       "      <th>16</th>\n",
       "      <td>Construction, Repair &amp; Maintenance</td>\n",
       "      <td>4</td>\n",
       "      <td>75.625000</td>\n",
       "    </tr>\n",
       "    <tr>\n",
       "      <th>5</th>\n",
       "      <td>Media</td>\n",
       "      <td>20</td>\n",
       "      <td>72.475000</td>\n",
       "    </tr>\n",
       "    <tr>\n",
       "      <th>17</th>\n",
       "      <td>Non-Profit</td>\n",
       "      <td>3</td>\n",
       "      <td>72.333333</td>\n",
       "    </tr>\n",
       "  </tbody>\n",
       "</table>\n",
       "</div>"
      ],
      "text/plain": [
       "                                Sector  Count  Average Salary\n",
       "19    Arts, Entertainment & Recreation      2      121.000000\n",
       "10                  Accounting & Legal     12      101.708333\n",
       "18        Oil, Gas, Energy & Utilities      2       95.750000\n",
       "12                         Real Estate      7       94.714286\n",
       "0               Information Technology    185       94.254054\n",
       "3                          Health Care     37       93.756757\n",
       "8            Biotech & Pharmaceuticals     16       89.718750\n",
       "9                        Manufacturing     13       88.192308\n",
       "1                    Business Services    120       87.004167\n",
       "20          Transportation & Logistics      2       86.500000\n",
       "2                                   -1    107       84.771028\n",
       "6                            Education     20       83.725000\n",
       "7                            Insurance     16       83.625000\n",
       "4                              Finance     31       83.596774\n",
       "13                          Government      7       83.571429\n",
       "11                              Retail      8       79.062500\n",
       "14                   Consumer Services      7       78.357143\n",
       "15                 Aerospace & Defense      7       75.785714\n",
       "16  Construction, Repair & Maintenance      4       75.625000\n",
       "5                                Media     20       72.475000\n",
       "17                          Non-Profit      3       72.333333"
      ]
     },
     "execution_count": 101,
     "metadata": {},
     "output_type": "execute_result"
    }
   ],
   "source": [
    "CA = df[df['Location_code']=='CA']\n",
    "CA_data_1 = CA.groupby('Sector')['Sector'].count().sort_values(ascending=False).to_frame()\n",
    "CA_data_2 = CA.groupby('Sector')['Salary_Estimate'].mean().sort_values(ascending=False).to_frame()\n",
    "CA_merge = CA_data_1.merge(CA_data_2,left_on = CA_data_1.index,right_on = CA_data_2.index)\n",
    "CA_merge.rename(columns = {'key_0':'Sector','Sector':'Count','Salary_Estimate':'Average Salary'},inplace=True)\n",
    "CA_merge.sort_values(by='Average Salary',ascending=False)"
   ]
  },
  {
   "cell_type": "markdown",
   "metadata": {},
   "source": [
    "### NY"
   ]
  },
  {
   "cell_type": "code",
   "execution_count": 102,
   "metadata": {},
   "outputs": [
    {
     "data": {
      "text/html": [
       "<div>\n",
       "<style scoped>\n",
       "    .dataframe tbody tr th:only-of-type {\n",
       "        vertical-align: middle;\n",
       "    }\n",
       "\n",
       "    .dataframe tbody tr th {\n",
       "        vertical-align: top;\n",
       "    }\n",
       "\n",
       "    .dataframe thead th {\n",
       "        text-align: right;\n",
       "    }\n",
       "</style>\n",
       "<table border=\"1\" class=\"dataframe\">\n",
       "  <thead>\n",
       "    <tr style=\"text-align: right;\">\n",
       "      <th></th>\n",
       "      <th>Sector</th>\n",
       "      <th>Count</th>\n",
       "      <th>Average Salary</th>\n",
       "    </tr>\n",
       "  </thead>\n",
       "  <tbody>\n",
       "    <tr>\n",
       "      <th>16</th>\n",
       "      <td>Oil, Gas, Energy &amp; Utilities</td>\n",
       "      <td>1</td>\n",
       "      <td>104.500000</td>\n",
       "    </tr>\n",
       "    <tr>\n",
       "      <th>11</th>\n",
       "      <td>Biotech &amp; Pharmaceuticals</td>\n",
       "      <td>2</td>\n",
       "      <td>88.250000</td>\n",
       "    </tr>\n",
       "    <tr>\n",
       "      <th>13</th>\n",
       "      <td>Construction, Repair &amp; Maintenance</td>\n",
       "      <td>1</td>\n",
       "      <td>85.000000</td>\n",
       "    </tr>\n",
       "    <tr>\n",
       "      <th>1</th>\n",
       "      <td>Business Services</td>\n",
       "      <td>74</td>\n",
       "      <td>76.195946</td>\n",
       "    </tr>\n",
       "    <tr>\n",
       "      <th>12</th>\n",
       "      <td>Arts, Entertainment &amp; Recreation</td>\n",
       "      <td>2</td>\n",
       "      <td>75.750000</td>\n",
       "    </tr>\n",
       "    <tr>\n",
       "      <th>8</th>\n",
       "      <td>Accounting &amp; Legal</td>\n",
       "      <td>7</td>\n",
       "      <td>74.857143</td>\n",
       "    </tr>\n",
       "    <tr>\n",
       "      <th>15</th>\n",
       "      <td>Manufacturing</td>\n",
       "      <td>1</td>\n",
       "      <td>72.000000</td>\n",
       "    </tr>\n",
       "    <tr>\n",
       "      <th>2</th>\n",
       "      <td>-1</td>\n",
       "      <td>61</td>\n",
       "      <td>71.942623</td>\n",
       "    </tr>\n",
       "    <tr>\n",
       "      <th>0</th>\n",
       "      <td>Information Technology</td>\n",
       "      <td>78</td>\n",
       "      <td>70.653846</td>\n",
       "    </tr>\n",
       "    <tr>\n",
       "      <th>10</th>\n",
       "      <td>Education</td>\n",
       "      <td>3</td>\n",
       "      <td>70.166667</td>\n",
       "    </tr>\n",
       "    <tr>\n",
       "      <th>3</th>\n",
       "      <td>Health Care</td>\n",
       "      <td>43</td>\n",
       "      <td>70.023256</td>\n",
       "    </tr>\n",
       "    <tr>\n",
       "      <th>14</th>\n",
       "      <td>Government</td>\n",
       "      <td>1</td>\n",
       "      <td>69.500000</td>\n",
       "    </tr>\n",
       "    <tr>\n",
       "      <th>19</th>\n",
       "      <td>Retail</td>\n",
       "      <td>1</td>\n",
       "      <td>69.000000</td>\n",
       "    </tr>\n",
       "    <tr>\n",
       "      <th>6</th>\n",
       "      <td>Non-Profit</td>\n",
       "      <td>12</td>\n",
       "      <td>67.125000</td>\n",
       "    </tr>\n",
       "    <tr>\n",
       "      <th>4</th>\n",
       "      <td>Finance</td>\n",
       "      <td>31</td>\n",
       "      <td>67.064516</td>\n",
       "    </tr>\n",
       "    <tr>\n",
       "      <th>17</th>\n",
       "      <td>Real Estate</td>\n",
       "      <td>1</td>\n",
       "      <td>66.500000</td>\n",
       "    </tr>\n",
       "    <tr>\n",
       "      <th>9</th>\n",
       "      <td>Consumer Services</td>\n",
       "      <td>3</td>\n",
       "      <td>66.333333</td>\n",
       "    </tr>\n",
       "    <tr>\n",
       "      <th>7</th>\n",
       "      <td>Insurance</td>\n",
       "      <td>8</td>\n",
       "      <td>65.250000</td>\n",
       "    </tr>\n",
       "    <tr>\n",
       "      <th>5</th>\n",
       "      <td>Media</td>\n",
       "      <td>14</td>\n",
       "      <td>64.428571</td>\n",
       "    </tr>\n",
       "    <tr>\n",
       "      <th>18</th>\n",
       "      <td>Restaurants, Bars &amp; Food Services</td>\n",
       "      <td>1</td>\n",
       "      <td>51.500000</td>\n",
       "    </tr>\n",
       "  </tbody>\n",
       "</table>\n",
       "</div>"
      ],
      "text/plain": [
       "                                Sector  Count  Average Salary\n",
       "16        Oil, Gas, Energy & Utilities      1      104.500000\n",
       "11           Biotech & Pharmaceuticals      2       88.250000\n",
       "13  Construction, Repair & Maintenance      1       85.000000\n",
       "1                    Business Services     74       76.195946\n",
       "12    Arts, Entertainment & Recreation      2       75.750000\n",
       "8                   Accounting & Legal      7       74.857143\n",
       "15                       Manufacturing      1       72.000000\n",
       "2                                   -1     61       71.942623\n",
       "0               Information Technology     78       70.653846\n",
       "10                           Education      3       70.166667\n",
       "3                          Health Care     43       70.023256\n",
       "14                          Government      1       69.500000\n",
       "19                              Retail      1       69.000000\n",
       "6                           Non-Profit     12       67.125000\n",
       "4                              Finance     31       67.064516\n",
       "17                         Real Estate      1       66.500000\n",
       "9                    Consumer Services      3       66.333333\n",
       "7                            Insurance      8       65.250000\n",
       "5                                Media     14       64.428571\n",
       "18   Restaurants, Bars & Food Services      1       51.500000"
      ]
     },
     "execution_count": 102,
     "metadata": {},
     "output_type": "execute_result"
    }
   ],
   "source": [
    "NY = df[df['Location_code']=='NY']\n",
    "NY_data_1 = NY.groupby('Sector')['Sector'].count().sort_values(ascending=False).to_frame()\n",
    "NY_data_2 = NY.groupby('Sector')['Salary_Estimate'].mean().sort_values(ascending=False).to_frame()\n",
    "NY_merge = NY_data_1.merge(NY_data_2,left_on = NY_data_1.index,right_on = NY_data_2.index)\n",
    "NY_merge.rename(columns = {'key_0':'Sector','Sector':'Count','Salary_Estimate':'Average Salary'},inplace=True)\n",
    "NY_merge.sort_values(by='Average Salary',ascending=False)"
   ]
  },
  {
   "cell_type": "markdown",
   "metadata": {},
   "source": [
    "### TX"
   ]
  },
  {
   "cell_type": "code",
   "execution_count": 103,
   "metadata": {},
   "outputs": [
    {
     "data": {
      "text/html": [
       "<div>\n",
       "<style scoped>\n",
       "    .dataframe tbody tr th:only-of-type {\n",
       "        vertical-align: middle;\n",
       "    }\n",
       "\n",
       "    .dataframe tbody tr th {\n",
       "        vertical-align: top;\n",
       "    }\n",
       "\n",
       "    .dataframe thead th {\n",
       "        text-align: right;\n",
       "    }\n",
       "</style>\n",
       "<table border=\"1\" class=\"dataframe\">\n",
       "  <thead>\n",
       "    <tr style=\"text-align: right;\">\n",
       "      <th></th>\n",
       "      <th>Sector</th>\n",
       "      <th>Count</th>\n",
       "      <th>Average Salary</th>\n",
       "    </tr>\n",
       "  </thead>\n",
       "  <tbody>\n",
       "    <tr>\n",
       "      <th>20</th>\n",
       "      <td>Non-Profit</td>\n",
       "      <td>1</td>\n",
       "      <td>81.000000</td>\n",
       "    </tr>\n",
       "    <tr>\n",
       "      <th>9</th>\n",
       "      <td>Aerospace &amp; Defense</td>\n",
       "      <td>7</td>\n",
       "      <td>68.857143</td>\n",
       "    </tr>\n",
       "    <tr>\n",
       "      <th>19</th>\n",
       "      <td>Construction, Repair &amp; Maintenance</td>\n",
       "      <td>2</td>\n",
       "      <td>65.500000</td>\n",
       "    </tr>\n",
       "    <tr>\n",
       "      <th>16</th>\n",
       "      <td>Consumer Services</td>\n",
       "      <td>3</td>\n",
       "      <td>64.666667</td>\n",
       "    </tr>\n",
       "    <tr>\n",
       "      <th>12</th>\n",
       "      <td>Media</td>\n",
       "      <td>5</td>\n",
       "      <td>63.200000</td>\n",
       "    </tr>\n",
       "    <tr>\n",
       "      <th>11</th>\n",
       "      <td>Education</td>\n",
       "      <td>6</td>\n",
       "      <td>61.916667</td>\n",
       "    </tr>\n",
       "    <tr>\n",
       "      <th>1</th>\n",
       "      <td>Business Services</td>\n",
       "      <td>93</td>\n",
       "      <td>60.516129</td>\n",
       "    </tr>\n",
       "    <tr>\n",
       "      <th>4</th>\n",
       "      <td>Health Care</td>\n",
       "      <td>27</td>\n",
       "      <td>59.981481</td>\n",
       "    </tr>\n",
       "    <tr>\n",
       "      <th>0</th>\n",
       "      <td>Information Technology</td>\n",
       "      <td>99</td>\n",
       "      <td>59.247475</td>\n",
       "    </tr>\n",
       "    <tr>\n",
       "      <th>2</th>\n",
       "      <td>-1</td>\n",
       "      <td>51</td>\n",
       "      <td>57.872549</td>\n",
       "    </tr>\n",
       "    <tr>\n",
       "      <th>5</th>\n",
       "      <td>Government</td>\n",
       "      <td>21</td>\n",
       "      <td>57.333333</td>\n",
       "    </tr>\n",
       "    <tr>\n",
       "      <th>13</th>\n",
       "      <td>Restaurants, Bars &amp; Food Services</td>\n",
       "      <td>4</td>\n",
       "      <td>56.625000</td>\n",
       "    </tr>\n",
       "    <tr>\n",
       "      <th>3</th>\n",
       "      <td>Finance</td>\n",
       "      <td>32</td>\n",
       "      <td>56.562500</td>\n",
       "    </tr>\n",
       "    <tr>\n",
       "      <th>17</th>\n",
       "      <td>Telecommunications</td>\n",
       "      <td>3</td>\n",
       "      <td>56.000000</td>\n",
       "    </tr>\n",
       "    <tr>\n",
       "      <th>7</th>\n",
       "      <td>Manufacturing</td>\n",
       "      <td>8</td>\n",
       "      <td>55.312500</td>\n",
       "    </tr>\n",
       "    <tr>\n",
       "      <th>8</th>\n",
       "      <td>Insurance</td>\n",
       "      <td>7</td>\n",
       "      <td>54.785714</td>\n",
       "    </tr>\n",
       "    <tr>\n",
       "      <th>6</th>\n",
       "      <td>Accounting &amp; Legal</td>\n",
       "      <td>9</td>\n",
       "      <td>53.333333</td>\n",
       "    </tr>\n",
       "    <tr>\n",
       "      <th>14</th>\n",
       "      <td>Transportation &amp; Logistics</td>\n",
       "      <td>4</td>\n",
       "      <td>52.875000</td>\n",
       "    </tr>\n",
       "    <tr>\n",
       "      <th>15</th>\n",
       "      <td>Oil, Gas, Energy &amp; Utilities</td>\n",
       "      <td>3</td>\n",
       "      <td>51.166667</td>\n",
       "    </tr>\n",
       "    <tr>\n",
       "      <th>18</th>\n",
       "      <td>Real Estate</td>\n",
       "      <td>2</td>\n",
       "      <td>50.750000</td>\n",
       "    </tr>\n",
       "    <tr>\n",
       "      <th>10</th>\n",
       "      <td>Retail</td>\n",
       "      <td>6</td>\n",
       "      <td>48.500000</td>\n",
       "    </tr>\n",
       "    <tr>\n",
       "      <th>21</th>\n",
       "      <td>Arts, Entertainment &amp; Recreation</td>\n",
       "      <td>1</td>\n",
       "      <td>36.000000</td>\n",
       "    </tr>\n",
       "  </tbody>\n",
       "</table>\n",
       "</div>"
      ],
      "text/plain": [
       "                                Sector  Count  Average Salary\n",
       "20                          Non-Profit      1       81.000000\n",
       "9                  Aerospace & Defense      7       68.857143\n",
       "19  Construction, Repair & Maintenance      2       65.500000\n",
       "16                   Consumer Services      3       64.666667\n",
       "12                               Media      5       63.200000\n",
       "11                           Education      6       61.916667\n",
       "1                    Business Services     93       60.516129\n",
       "4                          Health Care     27       59.981481\n",
       "0               Information Technology     99       59.247475\n",
       "2                                   -1     51       57.872549\n",
       "5                           Government     21       57.333333\n",
       "13   Restaurants, Bars & Food Services      4       56.625000\n",
       "3                              Finance     32       56.562500\n",
       "17                  Telecommunications      3       56.000000\n",
       "7                        Manufacturing      8       55.312500\n",
       "8                            Insurance      7       54.785714\n",
       "6                   Accounting & Legal      9       53.333333\n",
       "14          Transportation & Logistics      4       52.875000\n",
       "15        Oil, Gas, Energy & Utilities      3       51.166667\n",
       "18                         Real Estate      2       50.750000\n",
       "10                              Retail      6       48.500000\n",
       "21    Arts, Entertainment & Recreation      1       36.000000"
      ]
     },
     "execution_count": 103,
     "metadata": {},
     "output_type": "execute_result"
    }
   ],
   "source": [
    "TX = df[df['Location_code']=='TX']\n",
    "TX_data_1 = TX.groupby('Sector')['Sector'].count().sort_values(ascending=False).to_frame()\n",
    "TX_data_2 = TX.groupby('Sector')['Salary_Estimate'].mean().sort_values(ascending=False).to_frame()\n",
    "TX_merge = TX_data_1.merge(TX_data_2,left_on = TX_data_1.index,right_on = TX_data_2.index)\n",
    "TX_merge.rename(columns = {'key_0':'Sector','Sector':'Count','Salary_Estimate':'Average Salary'},inplace=True)\n",
    "TX_merge.sort_values(by='Average Salary',ascending=False)"
   ]
  },
  {
   "cell_type": "markdown",
   "metadata": {},
   "source": [
    "## Adding Dummy Variables to the DataFrame"
   ]
  },
  {
   "cell_type": "markdown",
   "metadata": {},
   "source": [
    "#### Location (State) & Sector"
   ]
  },
  {
   "cell_type": "code",
   "execution_count": 104,
   "metadata": {},
   "outputs": [],
   "source": [
    "df[\"ca\"] = [1 if x == \"CA\" else 0 for x in df['Location_code']]\n",
    "df[\"ny\"] = [1 if x == \"NY\" else 0 for x in df['Location_code']]\n",
    "df[\"tx\"] = [1 if x == \"TX\" else 0 for x in df['Location_code']]\n",
    "df[\"bs\"] = [1 if x == \"Business Services\" else 0 for x in df['Sector']]"
   ]
  },
  {
   "cell_type": "code",
   "execution_count": 105,
   "metadata": {},
   "outputs": [],
   "source": [
    "df['states'] = [1 if x == \"TX\" or x == \"NY\" or x == \"CA\" else 0 for x in df['Location_code']]\n",
    "df[\"sec\"] = [1 if x == \"Business Services\" or x == \"Accounting & Legal\" else 0 for x in df['Sector']]"
   ]
  },
  {
   "cell_type": "code",
   "execution_count": 106,
   "metadata": {},
   "outputs": [
    {
     "name": "stderr",
     "output_type": "stream",
     "text": [
      "/Users/yamato0615/anaconda3/lib/python3.7/site-packages/pandas/core/arraylike.py:364: RuntimeWarning:\n",
      "\n",
      "invalid value encountered in log\n",
      "\n"
     ]
    }
   ],
   "source": [
    "df['Revenue_new'] = df['Revenue'].map({'$100 to $500 million (USD)':300,\n",
    "                                    '$2 to $5 billion (USD)':3500,\n",
    "                                    'Unknown / Non-Applicable':-1,\n",
    "                                    '$50 to $100 million (USD)':75,\n",
    "                                    '$1 to $2 billion (USD)':1500,\n",
    "                                    '$5 to $10 billion (USD)':7500,\n",
    "                                    '$1 to $5 million (USD)':3,\n",
    "                                    '$25 to $50 million (USD)':37.5,\n",
    "                                    '$10+ billion (USD)':10000,\n",
    "                                    'Less than $1 million (USD)':1,\n",
    "                                    '$10 to $25 million (USD)':17.5,\n",
    "                                    '-1':-1,\n",
    "                                    '$500 million to $1 billion (USD)':750,\n",
    "                                    '$5 to $10 million (USD)':7.5})\n",
    "# df = df[~(df['Revenue_new'] == -1)]\n",
    "df['ln_revenue'] = np.log(df['Revenue_new'])\n",
    "data = df[(df['Location_code'].isin(['CA','NY','TX'])) & df['Sector'].isin(['Business Services','Accounting & Legal'])]"
   ]
  },
  {
   "cell_type": "code",
   "execution_count": 107,
   "metadata": {},
   "outputs": [
    {
     "data": {
      "text/html": [
       "<div>\n",
       "<style scoped>\n",
       "    .dataframe tbody tr th:only-of-type {\n",
       "        vertical-align: middle;\n",
       "    }\n",
       "\n",
       "    .dataframe tbody tr th {\n",
       "        vertical-align: top;\n",
       "    }\n",
       "\n",
       "    .dataframe thead th {\n",
       "        text-align: right;\n",
       "    }\n",
       "</style>\n",
       "<table border=\"1\" class=\"dataframe\">\n",
       "  <thead>\n",
       "    <tr style=\"text-align: right;\">\n",
       "      <th></th>\n",
       "      <th>Unnamed:_0</th>\n",
       "      <th>Job_Title</th>\n",
       "      <th>Salary_Estimate</th>\n",
       "      <th>Job_Description</th>\n",
       "      <th>Rating</th>\n",
       "      <th>Company_Name</th>\n",
       "      <th>Location</th>\n",
       "      <th>Headquarters</th>\n",
       "      <th>Size</th>\n",
       "      <th>Founded</th>\n",
       "      <th>...</th>\n",
       "      <th>Location_code</th>\n",
       "      <th>log_sal</th>\n",
       "      <th>ca</th>\n",
       "      <th>ny</th>\n",
       "      <th>tx</th>\n",
       "      <th>bs</th>\n",
       "      <th>states</th>\n",
       "      <th>sec</th>\n",
       "      <th>Revenue_new</th>\n",
       "      <th>ln_revenue</th>\n",
       "    </tr>\n",
       "  </thead>\n",
       "  <tbody>\n",
       "    <tr>\n",
       "      <th>9</th>\n",
       "      <td>9</td>\n",
       "      <td>Data Analyst, Merchant Health</td>\n",
       "      <td>51.5</td>\n",
       "      <td>About Us\\n\\nRiskified is the AI platform power...</td>\n",
       "      <td>4.4</td>\n",
       "      <td>Riskified</td>\n",
       "      <td>New York, NY</td>\n",
       "      <td>New York, NY</td>\n",
       "      <td>501 to 1000 employees</td>\n",
       "      <td>2013</td>\n",
       "      <td>...</td>\n",
       "      <td>NY</td>\n",
       "      <td>3.941582</td>\n",
       "      <td>0</td>\n",
       "      <td>1</td>\n",
       "      <td>0</td>\n",
       "      <td>1</td>\n",
       "      <td>1</td>\n",
       "      <td>1</td>\n",
       "      <td>-1.0</td>\n",
       "      <td>NaN</td>\n",
       "    </tr>\n",
       "    <tr>\n",
       "      <th>13</th>\n",
       "      <td>13</td>\n",
       "      <td>Senior Data Analyst</td>\n",
       "      <td>51.5</td>\n",
       "      <td>About Known\\n\\nKnown is a modern marketing com...</td>\n",
       "      <td>3.0</td>\n",
       "      <td>Known</td>\n",
       "      <td>New York, NY</td>\n",
       "      <td>New York, NY</td>\n",
       "      <td>201 to 500 employees</td>\n",
       "      <td>2004</td>\n",
       "      <td>...</td>\n",
       "      <td>NY</td>\n",
       "      <td>3.941582</td>\n",
       "      <td>0</td>\n",
       "      <td>1</td>\n",
       "      <td>0</td>\n",
       "      <td>1</td>\n",
       "      <td>1</td>\n",
       "      <td>1</td>\n",
       "      <td>300.0</td>\n",
       "      <td>5.703782</td>\n",
       "    </tr>\n",
       "  </tbody>\n",
       "</table>\n",
       "<p>2 rows × 33 columns</p>\n",
       "</div>"
      ],
      "text/plain": [
       "    Unnamed:_0                      Job_Title  Salary_Estimate  \\\n",
       "9            9  Data Analyst, Merchant Health             51.5   \n",
       "13          13            Senior Data Analyst             51.5   \n",
       "\n",
       "                                      Job_Description  Rating Company_Name  \\\n",
       "9   About Us\\n\\nRiskified is the AI platform power...     4.4    Riskified   \n",
       "13  About Known\\n\\nKnown is a modern marketing com...     3.0        Known   \n",
       "\n",
       "        Location  Headquarters                   Size  Founded  ...  \\\n",
       "9   New York, NY  New York, NY  501 to 1000 employees     2013  ...   \n",
       "13  New York, NY  New York, NY   201 to 500 employees     2004  ...   \n",
       "\n",
       "   Location_code   log_sal ca ny tx bs  states  sec  Revenue_new  ln_revenue  \n",
       "9             NY  3.941582  0  1  0  1       1    1         -1.0         NaN  \n",
       "13            NY  3.941582  0  1  0  1       1    1        300.0    5.703782  \n",
       "\n",
       "[2 rows x 33 columns]"
      ]
     },
     "execution_count": 107,
     "metadata": {},
     "output_type": "execute_result"
    }
   ],
   "source": [
    "data.head(2)"
   ]
  },
  {
   "cell_type": "code",
   "execution_count": 108,
   "metadata": {},
   "outputs": [
    {
     "data": {
      "text/html": [
       "<div>\n",
       "<style scoped>\n",
       "    .dataframe tbody tr th:only-of-type {\n",
       "        vertical-align: middle;\n",
       "    }\n",
       "\n",
       "    .dataframe tbody tr th {\n",
       "        vertical-align: top;\n",
       "    }\n",
       "\n",
       "    .dataframe thead th {\n",
       "        text-align: right;\n",
       "    }\n",
       "</style>\n",
       "<table border=\"1\" class=\"dataframe\">\n",
       "  <thead>\n",
       "    <tr style=\"text-align: right;\">\n",
       "      <th></th>\n",
       "      <th>Unnamed:_0</th>\n",
       "      <th>Salary_Estimate</th>\n",
       "      <th>Rating</th>\n",
       "      <th>Founded</th>\n",
       "      <th>skills</th>\n",
       "      <th>Senior</th>\n",
       "      <th>com_size_u500</th>\n",
       "      <th>com_rev_u500m</th>\n",
       "      <th>years_experience</th>\n",
       "      <th>ye0</th>\n",
       "      <th>ye3</th>\n",
       "      <th>log_sal</th>\n",
       "      <th>ca</th>\n",
       "      <th>ny</th>\n",
       "      <th>tx</th>\n",
       "      <th>bs</th>\n",
       "      <th>states</th>\n",
       "      <th>sec</th>\n",
       "      <th>Revenue_new</th>\n",
       "      <th>ln_revenue</th>\n",
       "    </tr>\n",
       "  </thead>\n",
       "  <tbody>\n",
       "    <tr>\n",
       "      <th>count</th>\n",
       "      <td>2253.0000</td>\n",
       "      <td>2253.000000</td>\n",
       "      <td>2253.000000</td>\n",
       "      <td>2253.000000</td>\n",
       "      <td>2253.000000</td>\n",
       "      <td>2253.000000</td>\n",
       "      <td>2253.000000</td>\n",
       "      <td>2253.000000</td>\n",
       "      <td>1528.000000</td>\n",
       "      <td>2253.000000</td>\n",
       "      <td>2253.000000</td>\n",
       "      <td>2253.000000</td>\n",
       "      <td>2253.000000</td>\n",
       "      <td>2253.000000</td>\n",
       "      <td>2253.000000</td>\n",
       "      <td>2253.000000</td>\n",
       "      <td>2253.000000</td>\n",
       "      <td>2253.000000</td>\n",
       "      <td>2253.000000</td>\n",
       "      <td>1475.000000</td>\n",
       "    </tr>\n",
       "    <tr>\n",
       "      <th>mean</th>\n",
       "      <td>1126.0000</td>\n",
       "      <td>72.091434</td>\n",
       "      <td>3.160630</td>\n",
       "      <td>1398.522858</td>\n",
       "      <td>2.025743</td>\n",
       "      <td>0.126498</td>\n",
       "      <td>0.548602</td>\n",
       "      <td>0.584998</td>\n",
       "      <td>18.185209</td>\n",
       "      <td>0.667998</td>\n",
       "      <td>0.272526</td>\n",
       "      <td>4.225130</td>\n",
       "      <td>0.277852</td>\n",
       "      <td>0.153129</td>\n",
       "      <td>0.174878</td>\n",
       "      <td>0.232579</td>\n",
       "      <td>0.605859</td>\n",
       "      <td>0.251664</td>\n",
       "      <td>1348.512206</td>\n",
       "      <td>5.151510</td>\n",
       "    </tr>\n",
       "    <tr>\n",
       "      <th>std</th>\n",
       "      <td>650.5294</td>\n",
       "      <td>23.643023</td>\n",
       "      <td>1.665228</td>\n",
       "      <td>901.929251</td>\n",
       "      <td>1.408000</td>\n",
       "      <td>0.332484</td>\n",
       "      <td>0.497743</td>\n",
       "      <td>0.492832</td>\n",
       "      <td>491.143680</td>\n",
       "      <td>0.471036</td>\n",
       "      <td>0.445358</td>\n",
       "      <td>0.333211</td>\n",
       "      <td>0.448039</td>\n",
       "      <td>0.360192</td>\n",
       "      <td>0.379947</td>\n",
       "      <td>0.422570</td>\n",
       "      <td>0.488774</td>\n",
       "      <td>0.434066</td>\n",
       "      <td>2964.737312</td>\n",
       "      <td>2.830330</td>\n",
       "    </tr>\n",
       "    <tr>\n",
       "      <th>min</th>\n",
       "      <td>0.0000</td>\n",
       "      <td>1.000000</td>\n",
       "      <td>-1.000000</td>\n",
       "      <td>-1.000000</td>\n",
       "      <td>0.000000</td>\n",
       "      <td>0.000000</td>\n",
       "      <td>0.000000</td>\n",
       "      <td>0.000000</td>\n",
       "      <td>0.000000</td>\n",
       "      <td>0.000000</td>\n",
       "      <td>0.000000</td>\n",
       "      <td>0.000000</td>\n",
       "      <td>0.000000</td>\n",
       "      <td>0.000000</td>\n",
       "      <td>0.000000</td>\n",
       "      <td>0.000000</td>\n",
       "      <td>0.000000</td>\n",
       "      <td>0.000000</td>\n",
       "      <td>-1.000000</td>\n",
       "      <td>0.000000</td>\n",
       "    </tr>\n",
       "    <tr>\n",
       "      <th>25%</th>\n",
       "      <td>563.0000</td>\n",
       "      <td>58.000000</td>\n",
       "      <td>3.100000</td>\n",
       "      <td>-1.000000</td>\n",
       "      <td>1.000000</td>\n",
       "      <td>0.000000</td>\n",
       "      <td>0.000000</td>\n",
       "      <td>0.000000</td>\n",
       "      <td>2.000000</td>\n",
       "      <td>0.000000</td>\n",
       "      <td>0.000000</td>\n",
       "      <td>4.060443</td>\n",
       "      <td>0.000000</td>\n",
       "      <td>0.000000</td>\n",
       "      <td>0.000000</td>\n",
       "      <td>0.000000</td>\n",
       "      <td>0.000000</td>\n",
       "      <td>0.000000</td>\n",
       "      <td>-1.000000</td>\n",
       "      <td>2.862201</td>\n",
       "    </tr>\n",
       "    <tr>\n",
       "      <th>50%</th>\n",
       "      <td>1126.0000</td>\n",
       "      <td>69.000000</td>\n",
       "      <td>3.600000</td>\n",
       "      <td>1979.000000</td>\n",
       "      <td>2.000000</td>\n",
       "      <td>0.000000</td>\n",
       "      <td>1.000000</td>\n",
       "      <td>1.000000</td>\n",
       "      <td>3.000000</td>\n",
       "      <td>1.000000</td>\n",
       "      <td>0.000000</td>\n",
       "      <td>4.234107</td>\n",
       "      <td>0.000000</td>\n",
       "      <td>0.000000</td>\n",
       "      <td>0.000000</td>\n",
       "      <td>0.000000</td>\n",
       "      <td>1.000000</td>\n",
       "      <td>0.000000</td>\n",
       "      <td>17.500000</td>\n",
       "      <td>5.703782</td>\n",
       "    </tr>\n",
       "    <tr>\n",
       "      <th>75%</th>\n",
       "      <td>1689.0000</td>\n",
       "      <td>80.500000</td>\n",
       "      <td>4.000000</td>\n",
       "      <td>2002.000000</td>\n",
       "      <td>3.000000</td>\n",
       "      <td>0.000000</td>\n",
       "      <td>1.000000</td>\n",
       "      <td>1.000000</td>\n",
       "      <td>5.000000</td>\n",
       "      <td>1.000000</td>\n",
       "      <td>1.000000</td>\n",
       "      <td>4.388257</td>\n",
       "      <td>1.000000</td>\n",
       "      <td>0.000000</td>\n",
       "      <td>0.000000</td>\n",
       "      <td>0.000000</td>\n",
       "      <td>1.000000</td>\n",
       "      <td>1.000000</td>\n",
       "      <td>300.000000</td>\n",
       "      <td>8.160518</td>\n",
       "    </tr>\n",
       "    <tr>\n",
       "      <th>max</th>\n",
       "      <td>2252.0000</td>\n",
       "      <td>150.000000</td>\n",
       "      <td>5.000000</td>\n",
       "      <td>2019.000000</td>\n",
       "      <td>8.000000</td>\n",
       "      <td>1.000000</td>\n",
       "      <td>1.000000</td>\n",
       "      <td>1.000000</td>\n",
       "      <td>19103.000000</td>\n",
       "      <td>1.000000</td>\n",
       "      <td>1.000000</td>\n",
       "      <td>5.010635</td>\n",
       "      <td>1.000000</td>\n",
       "      <td>1.000000</td>\n",
       "      <td>1.000000</td>\n",
       "      <td>1.000000</td>\n",
       "      <td>1.000000</td>\n",
       "      <td>1.000000</td>\n",
       "      <td>10000.000000</td>\n",
       "      <td>9.210340</td>\n",
       "    </tr>\n",
       "  </tbody>\n",
       "</table>\n",
       "</div>"
      ],
      "text/plain": [
       "       Unnamed:_0  Salary_Estimate       Rating      Founded       skills  \\\n",
       "count   2253.0000      2253.000000  2253.000000  2253.000000  2253.000000   \n",
       "mean    1126.0000        72.091434     3.160630  1398.522858     2.025743   \n",
       "std      650.5294        23.643023     1.665228   901.929251     1.408000   \n",
       "min        0.0000         1.000000    -1.000000    -1.000000     0.000000   \n",
       "25%      563.0000        58.000000     3.100000    -1.000000     1.000000   \n",
       "50%     1126.0000        69.000000     3.600000  1979.000000     2.000000   \n",
       "75%     1689.0000        80.500000     4.000000  2002.000000     3.000000   \n",
       "max     2252.0000       150.000000     5.000000  2019.000000     8.000000   \n",
       "\n",
       "            Senior  com_size_u500  com_rev_u500m  years_experience  \\\n",
       "count  2253.000000    2253.000000    2253.000000       1528.000000   \n",
       "mean      0.126498       0.548602       0.584998         18.185209   \n",
       "std       0.332484       0.497743       0.492832        491.143680   \n",
       "min       0.000000       0.000000       0.000000          0.000000   \n",
       "25%       0.000000       0.000000       0.000000          2.000000   \n",
       "50%       0.000000       1.000000       1.000000          3.000000   \n",
       "75%       0.000000       1.000000       1.000000          5.000000   \n",
       "max       1.000000       1.000000       1.000000      19103.000000   \n",
       "\n",
       "               ye0          ye3      log_sal           ca           ny  \\\n",
       "count  2253.000000  2253.000000  2253.000000  2253.000000  2253.000000   \n",
       "mean      0.667998     0.272526     4.225130     0.277852     0.153129   \n",
       "std       0.471036     0.445358     0.333211     0.448039     0.360192   \n",
       "min       0.000000     0.000000     0.000000     0.000000     0.000000   \n",
       "25%       0.000000     0.000000     4.060443     0.000000     0.000000   \n",
       "50%       1.000000     0.000000     4.234107     0.000000     0.000000   \n",
       "75%       1.000000     1.000000     4.388257     1.000000     0.000000   \n",
       "max       1.000000     1.000000     5.010635     1.000000     1.000000   \n",
       "\n",
       "                tx           bs       states          sec   Revenue_new  \\\n",
       "count  2253.000000  2253.000000  2253.000000  2253.000000   2253.000000   \n",
       "mean      0.174878     0.232579     0.605859     0.251664   1348.512206   \n",
       "std       0.379947     0.422570     0.488774     0.434066   2964.737312   \n",
       "min       0.000000     0.000000     0.000000     0.000000     -1.000000   \n",
       "25%       0.000000     0.000000     0.000000     0.000000     -1.000000   \n",
       "50%       0.000000     0.000000     1.000000     0.000000     17.500000   \n",
       "75%       0.000000     0.000000     1.000000     1.000000    300.000000   \n",
       "max       1.000000     1.000000     1.000000     1.000000  10000.000000   \n",
       "\n",
       "        ln_revenue  \n",
       "count  1475.000000  \n",
       "mean      5.151510  \n",
       "std       2.830330  \n",
       "min       0.000000  \n",
       "25%       2.862201  \n",
       "50%       5.703782  \n",
       "75%       8.160518  \n",
       "max       9.210340  "
      ]
     },
     "execution_count": 108,
     "metadata": {},
     "output_type": "execute_result"
    }
   ],
   "source": [
    "df.describe()"
   ]
  },
  {
   "cell_type": "code",
   "execution_count": 109,
   "metadata": {},
   "outputs": [
    {
     "data": {
      "text/html": [
       "<div>\n",
       "<style scoped>\n",
       "    .dataframe tbody tr th:only-of-type {\n",
       "        vertical-align: middle;\n",
       "    }\n",
       "\n",
       "    .dataframe tbody tr th {\n",
       "        vertical-align: top;\n",
       "    }\n",
       "\n",
       "    .dataframe thead th {\n",
       "        text-align: right;\n",
       "    }\n",
       "</style>\n",
       "<table border=\"1\" class=\"dataframe\">\n",
       "  <thead>\n",
       "    <tr style=\"text-align: right;\">\n",
       "      <th></th>\n",
       "      <th>Unnamed:_0</th>\n",
       "      <th>Job_Title</th>\n",
       "      <th>Salary_Estimate</th>\n",
       "      <th>Job_Description</th>\n",
       "      <th>Rating</th>\n",
       "      <th>Company_Name</th>\n",
       "      <th>Location</th>\n",
       "      <th>Headquarters</th>\n",
       "      <th>Size</th>\n",
       "      <th>Founded</th>\n",
       "      <th>...</th>\n",
       "      <th>Location_code</th>\n",
       "      <th>log_sal</th>\n",
       "      <th>ca</th>\n",
       "      <th>ny</th>\n",
       "      <th>tx</th>\n",
       "      <th>bs</th>\n",
       "      <th>states</th>\n",
       "      <th>sec</th>\n",
       "      <th>Revenue_new</th>\n",
       "      <th>ln_revenue</th>\n",
       "    </tr>\n",
       "  </thead>\n",
       "  <tbody>\n",
       "    <tr>\n",
       "      <th>9</th>\n",
       "      <td>9</td>\n",
       "      <td>Data Analyst, Merchant Health</td>\n",
       "      <td>51.5</td>\n",
       "      <td>About Us\\n\\nRiskified is the AI platform power...</td>\n",
       "      <td>4.4</td>\n",
       "      <td>Riskified</td>\n",
       "      <td>New York, NY</td>\n",
       "      <td>New York, NY</td>\n",
       "      <td>501 to 1000 employees</td>\n",
       "      <td>2013</td>\n",
       "      <td>...</td>\n",
       "      <td>NY</td>\n",
       "      <td>3.941582</td>\n",
       "      <td>0</td>\n",
       "      <td>1</td>\n",
       "      <td>0</td>\n",
       "      <td>1</td>\n",
       "      <td>1</td>\n",
       "      <td>1</td>\n",
       "      <td>-1.0</td>\n",
       "      <td>NaN</td>\n",
       "    </tr>\n",
       "    <tr>\n",
       "      <th>13</th>\n",
       "      <td>13</td>\n",
       "      <td>Senior Data Analyst</td>\n",
       "      <td>51.5</td>\n",
       "      <td>About Known\\n\\nKnown is a modern marketing com...</td>\n",
       "      <td>3.0</td>\n",
       "      <td>Known</td>\n",
       "      <td>New York, NY</td>\n",
       "      <td>New York, NY</td>\n",
       "      <td>201 to 500 employees</td>\n",
       "      <td>2004</td>\n",
       "      <td>...</td>\n",
       "      <td>NY</td>\n",
       "      <td>3.941582</td>\n",
       "      <td>0</td>\n",
       "      <td>1</td>\n",
       "      <td>0</td>\n",
       "      <td>1</td>\n",
       "      <td>1</td>\n",
       "      <td>1</td>\n",
       "      <td>300.0</td>\n",
       "      <td>5.703782</td>\n",
       "    </tr>\n",
       "    <tr>\n",
       "      <th>15</th>\n",
       "      <td>15</td>\n",
       "      <td>Sustainability Data Analyst</td>\n",
       "      <td>51.5</td>\n",
       "      <td>Job Description\\nRole Description\\n\\nSustainab...</td>\n",
       "      <td>3.6</td>\n",
       "      <td>CodeGreen Solutions</td>\n",
       "      <td>New York, NY</td>\n",
       "      <td>New York, NY</td>\n",
       "      <td>1 to 50 employees</td>\n",
       "      <td>-1</td>\n",
       "      <td>...</td>\n",
       "      <td>NY</td>\n",
       "      <td>3.941582</td>\n",
       "      <td>0</td>\n",
       "      <td>1</td>\n",
       "      <td>0</td>\n",
       "      <td>1</td>\n",
       "      <td>1</td>\n",
       "      <td>1</td>\n",
       "      <td>-1.0</td>\n",
       "      <td>NaN</td>\n",
       "    </tr>\n",
       "  </tbody>\n",
       "</table>\n",
       "<p>3 rows × 33 columns</p>\n",
       "</div>"
      ],
      "text/plain": [
       "    Unnamed:_0                      Job_Title  Salary_Estimate  \\\n",
       "9            9  Data Analyst, Merchant Health             51.5   \n",
       "13          13            Senior Data Analyst             51.5   \n",
       "15          15    Sustainability Data Analyst             51.5   \n",
       "\n",
       "                                      Job_Description  Rating  \\\n",
       "9   About Us\\n\\nRiskified is the AI platform power...     4.4   \n",
       "13  About Known\\n\\nKnown is a modern marketing com...     3.0   \n",
       "15  Job Description\\nRole Description\\n\\nSustainab...     3.6   \n",
       "\n",
       "           Company_Name      Location  Headquarters                   Size  \\\n",
       "9             Riskified  New York, NY  New York, NY  501 to 1000 employees   \n",
       "13                Known  New York, NY  New York, NY   201 to 500 employees   \n",
       "15  CodeGreen Solutions  New York, NY  New York, NY      1 to 50 employees   \n",
       "\n",
       "    Founded  ... Location_code   log_sal ca ny tx bs  states  sec  \\\n",
       "9      2013  ...            NY  3.941582  0  1  0  1       1    1   \n",
       "13     2004  ...            NY  3.941582  0  1  0  1       1    1   \n",
       "15       -1  ...            NY  3.941582  0  1  0  1       1    1   \n",
       "\n",
       "    Revenue_new  ln_revenue  \n",
       "9          -1.0         NaN  \n",
       "13        300.0    5.703782  \n",
       "15         -1.0         NaN  \n",
       "\n",
       "[3 rows x 33 columns]"
      ]
     },
     "execution_count": 109,
     "metadata": {},
     "output_type": "execute_result"
    }
   ],
   "source": [
    "data.head(3)"
   ]
  },
  {
   "cell_type": "markdown",
   "metadata": {},
   "source": [
    "## Regression"
   ]
  },
  {
   "cell_type": "code",
   "execution_count": 110,
   "metadata": {},
   "outputs": [
    {
     "data": {
      "text/plain": [
       "Index(['Unnamed:_0', 'Job_Title', 'Salary_Estimate', 'Job_Description',\n",
       "       'Rating', 'Company_Name', 'Location', 'Headquarters', 'Size', 'Founded',\n",
       "       'Type_of_ownership', 'Industry', 'Sector', 'Revenue', 'Competitors',\n",
       "       'Easy_Apply', 'skills', 'Senior', 'com_size_u500', 'com_rev_u500m',\n",
       "       'years_experience', 'ye0', 'ye3', 'Location_code', 'log_sal', 'ca',\n",
       "       'ny', 'tx', 'bs', 'states', 'sec', 'Revenue_new', 'ln_revenue'],\n",
       "      dtype='object')"
      ]
     },
     "execution_count": 110,
     "metadata": {},
     "output_type": "execute_result"
    }
   ],
   "source": [
    "df.columns"
   ]
  },
  {
   "cell_type": "code",
   "execution_count": 111,
   "metadata": {},
   "outputs": [
    {
     "name": "stdout",
     "output_type": "stream",
     "text": [
      "                            OLS Regression Results                            \n",
      "==============================================================================\n",
      "Dep. Variable:                log_sal   R-squared:                       0.001\n",
      "Model:                            OLS   Adj. R-squared:                 -0.001\n",
      "Method:                 Least Squares   F-statistic:                    0.6010\n",
      "Date:                Sat, 11 Dec 2021   Prob (F-statistic):              0.662\n",
      "Time:                        12:25:19   Log-Likelihood:                -719.16\n",
      "No. Observations:                2253   AIC:                             1448.\n",
      "Df Residuals:                    2248   BIC:                             1477.\n",
      "Df Model:                           4                                         \n",
      "Covariance Type:            nonrobust                                         \n",
      "=================================================================================\n",
      "                    coef    std err          t      P>|t|      [0.025      0.975]\n",
      "---------------------------------------------------------------------------------\n",
      "Intercept         4.2206      0.017    244.822      0.000       4.187       4.254\n",
      "com_size_u500    -0.0112      0.015     -0.726      0.468      -0.042       0.019\n",
      "com_rev_u500m     0.0237      0.016      1.520      0.129      -0.007       0.054\n",
      "ye0               0.0001      0.015      0.008      0.994      -0.030       0.030\n",
      "skills           -0.0016      0.005     -0.317      0.751      -0.012       0.008\n",
      "==============================================================================\n",
      "Omnibus:                      654.309   Durbin-Watson:                   0.187\n",
      "Prob(Omnibus):                  0.000   Jarque-Bera (JB):            11499.854\n",
      "Skew:                          -0.904   Prob(JB):                         0.00\n",
      "Kurtosis:                      13.919   Cond. No.                         7.99\n",
      "==============================================================================\n",
      "\n",
      "Notes:\n",
      "[1] Standard Errors assume that the covariance matrix of the errors is correctly specified.\n"
     ]
    }
   ],
   "source": [
    "result = sm.ols(formula=\"log_sal ~ com_size_u500+com_rev_u500m+ye0+skills\", \n",
    "                data=df).fit()\n",
    "print(result.summary())"
   ]
  },
  {
   "cell_type": "code",
   "execution_count": 112,
   "metadata": {},
   "outputs": [
    {
     "name": "stdout",
     "output_type": "stream",
     "text": [
      "                            OLS Regression Results                            \n",
      "==============================================================================\n",
      "Dep. Variable:                log_sal   R-squared:                       0.023\n",
      "Model:                            OLS   Adj. R-squared:                  0.020\n",
      "Method:                 Least Squares   F-statistic:                     8.854\n",
      "Date:                Sat, 11 Dec 2021   Prob (F-statistic):           1.45e-09\n",
      "Time:                        12:25:19   Log-Likelihood:                -694.03\n",
      "No. Observations:                2253   AIC:                             1402.\n",
      "Df Residuals:                    2246   BIC:                             1442.\n",
      "Df Model:                           6                                         \n",
      "Covariance Type:            nonrobust                                         \n",
      "=================================================================================\n",
      "                    coef    std err          t      P>|t|      [0.025      0.975]\n",
      "---------------------------------------------------------------------------------\n",
      "Intercept         4.1572      0.020    203.608      0.000       4.117       4.197\n",
      "com_size_u500    -0.0041      0.015     -0.266      0.790      -0.034       0.026\n",
      "com_rev_u500m     0.0195      0.016      1.247      0.213      -0.011       0.050\n",
      "ye0               0.0006      0.015      0.042      0.967      -0.029       0.030\n",
      "skills           -0.0035      0.005     -0.691      0.489      -0.013       0.006\n",
      "states            0.1014      0.014      7.093      0.000       0.073       0.129\n",
      "sec               0.0158      0.017      0.954      0.340      -0.017       0.048\n",
      "==============================================================================\n",
      "Omnibus:                      694.621   Durbin-Watson:                   0.196\n",
      "Prob(Omnibus):                  0.000   Jarque-Bera (JB):            11477.482\n",
      "Skew:                          -1.007   Prob(JB):                         0.00\n",
      "Kurtosis:                      13.872   Cond. No.                         9.97\n",
      "==============================================================================\n",
      "\n",
      "Notes:\n",
      "[1] Standard Errors assume that the covariance matrix of the errors is correctly specified.\n"
     ]
    }
   ],
   "source": [
    "result = sm.ols(formula=\"log_sal ~ com_size_u500+com_rev_u500m+ye0+skills+states+sec\", \n",
    "                data=df).fit()\n",
    "print(result.summary())"
   ]
  },
  {
   "cell_type": "code",
   "execution_count": 113,
   "metadata": {},
   "outputs": [
    {
     "name": "stdout",
     "output_type": "stream",
     "text": [
      "                            OLS Regression Results                            \n",
      "==============================================================================\n",
      "Dep. Variable:                log_sal   R-squared:                       0.023\n",
      "Model:                            OLS   Adj. R-squared:                  0.021\n",
      "Method:                 Least Squares   F-statistic:                     10.61\n",
      "Date:                Sat, 11 Dec 2021   Prob (F-statistic):           4.28e-10\n",
      "Time:                        12:25:19   Log-Likelihood:                -694.07\n",
      "No. Observations:                2253   AIC:                             1400.\n",
      "Df Residuals:                    2247   BIC:                             1434.\n",
      "Df Model:                           5                                         \n",
      "Covariance Type:            nonrobust                                         \n",
      "=================================================================================\n",
      "                    coef    std err          t      P>|t|      [0.025      0.975]\n",
      "---------------------------------------------------------------------------------\n",
      "Intercept         4.1557      0.020    211.268      0.000       4.117       4.194\n",
      "com_rev_u500m     0.0179      0.014      1.239      0.216      -0.010       0.046\n",
      "ye0               0.0003      0.015      0.023      0.981      -0.029       0.030\n",
      "skills           -0.0034      0.005     -0.683      0.494      -0.013       0.006\n",
      "states            0.1017      0.014      7.122      0.000       0.074       0.130\n",
      "sec               0.0162      0.016      0.983      0.326      -0.016       0.049\n",
      "==============================================================================\n",
      "Omnibus:                      694.409   Durbin-Watson:                   0.196\n",
      "Prob(Omnibus):                  0.000   Jarque-Bera (JB):            11449.853\n",
      "Skew:                          -1.008   Prob(JB):                         0.00\n",
      "Kurtosis:                      13.859   Cond. No.                         9.64\n",
      "==============================================================================\n",
      "\n",
      "Notes:\n",
      "[1] Standard Errors assume that the covariance matrix of the errors is correctly specified.\n"
     ]
    }
   ],
   "source": [
    "result = sm.ols(formula=\"log_sal ~ com_rev_u500m+ye0+skills+states+sec\", \n",
    "                data=df).fit()\n",
    "print(result.summary())"
   ]
  },
  {
   "cell_type": "code",
   "execution_count": 114,
   "metadata": {},
   "outputs": [
    {
     "name": "stdout",
     "output_type": "stream",
     "text": [
      "                            OLS Regression Results                            \n",
      "==============================================================================\n",
      "Dep. Variable:                log_sal   R-squared:                       0.025\n",
      "Model:                            OLS   Adj. R-squared:                  0.022\n",
      "Method:                 Least Squares   F-statistic:                     7.572\n",
      "Date:                Sat, 11 Dec 2021   Prob (F-statistic):           4.94e-07\n",
      "Time:                        12:25:19   Log-Likelihood:                -481.70\n",
      "No. Observations:                1475   AIC:                             975.4\n",
      "Df Residuals:                    1469   BIC:                             1007.\n",
      "Df Model:                           5                                         \n",
      "Covariance Type:            nonrobust                                         \n",
      "==============================================================================\n",
      "                 coef    std err          t      P>|t|      [0.025      0.975]\n",
      "------------------------------------------------------------------------------\n",
      "Intercept      4.1592      0.028    150.718      0.000       4.105       4.213\n",
      "ln_revenue    -0.0006      0.003     -0.185      0.854      -0.007       0.006\n",
      "ye0           -0.0015      0.019     -0.083      0.934      -0.038       0.035\n",
      "skills        -0.0047      0.006     -0.742      0.458      -0.017       0.008\n",
      "states         0.1072      0.018      6.039      0.000       0.072       0.142\n",
      "sec            0.0209      0.020      1.061      0.289      -0.018       0.059\n",
      "==============================================================================\n",
      "Omnibus:                      620.220   Durbin-Watson:                   0.282\n",
      "Prob(Omnibus):                  0.000   Jarque-Bera (JB):            15148.673\n",
      "Skew:                          -1.398   Prob(JB):                         0.00\n",
      "Kurtosis:                      18.449   Cond. No.                         22.2\n",
      "==============================================================================\n",
      "\n",
      "Notes:\n",
      "[1] Standard Errors assume that the covariance matrix of the errors is correctly specified.\n"
     ]
    }
   ],
   "source": [
    "result = sm.ols(formula=\"log_sal ~ ln_revenue+ye0+skills+states+sec\", \n",
    "                data=df).fit()\n",
    "print(result.summary())"
   ]
  },
  {
   "cell_type": "code",
   "execution_count": 115,
   "metadata": {},
   "outputs": [
    {
     "name": "stdout",
     "output_type": "stream",
     "text": [
      "                            OLS Regression Results                            \n",
      "==============================================================================\n",
      "Dep. Variable:                log_sal   R-squared:                       0.023\n",
      "Model:                            OLS   Adj. R-squared:                  0.021\n",
      "Method:                 Least Squares   F-statistic:                     10.70\n",
      "Date:                Sat, 11 Dec 2021   Prob (F-statistic):           3.53e-10\n",
      "Time:                        12:25:19   Log-Likelihood:                -693.87\n",
      "No. Observations:                2253   AIC:                             1400.\n",
      "Df Residuals:                    2247   BIC:                             1434.\n",
      "Df Model:                           5                                         \n",
      "Covariance Type:            nonrobust                                         \n",
      "=================================================================================\n",
      "                    coef    std err          t      P>|t|      [0.025      0.975]\n",
      "---------------------------------------------------------------------------------\n",
      "Intercept         4.1581      0.018    227.130      0.000       4.122       4.194\n",
      "com_rev_u500m     0.0181      0.014      1.251      0.211      -0.010       0.046\n",
      "ye3              -0.0100      0.016     -0.637      0.524      -0.041       0.021\n",
      "skills           -0.0032      0.005     -0.639      0.523      -0.013       0.007\n",
      "states            0.1015      0.014      7.112      0.000       0.074       0.130\n",
      "sec               0.0164      0.016      0.996      0.319      -0.016       0.049\n",
      "==============================================================================\n",
      "Omnibus:                      691.160   Durbin-Watson:                   0.196\n",
      "Prob(Omnibus):                  0.000   Jarque-Bera (JB):            11295.114\n",
      "Skew:                          -1.003   Prob(JB):                         0.00\n",
      "Kurtosis:                      13.784   Cond. No.                         9.02\n",
      "==============================================================================\n",
      "\n",
      "Notes:\n",
      "[1] Standard Errors assume that the covariance matrix of the errors is correctly specified.\n"
     ]
    }
   ],
   "source": [
    "result = sm.ols(formula=\"log_sal ~ com_rev_u500m+ye3+skills+states+sec\", \n",
    "                data=df).fit()\n",
    "print(result.summary())"
   ]
  },
  {
   "cell_type": "code",
   "execution_count": null,
   "metadata": {},
   "outputs": [],
   "source": []
  },
  {
   "cell_type": "code",
   "execution_count": 116,
   "metadata": {},
   "outputs": [
    {
     "name": "stdout",
     "output_type": "stream",
     "text": [
      "                            OLS Regression Results                            \n",
      "==============================================================================\n",
      "Dep. Variable:                log_sal   R-squared:                       0.254\n",
      "Model:                            OLS   Adj. R-squared:                  0.241\n",
      "Method:                 Least Squares   F-statistic:                     20.99\n",
      "Date:                Sat, 11 Dec 2021   Prob (F-statistic):           4.57e-18\n",
      "Time:                        12:25:20   Log-Likelihood:                -63.086\n",
      "No. Observations:                 315   AIC:                             138.2\n",
      "Df Residuals:                     309   BIC:                             160.7\n",
      "Df Model:                           5                                         \n",
      "Covariance Type:            nonrobust                                         \n",
      "==============================================================================\n",
      "                 coef    std err          t      P>|t|      [0.025      0.975]\n",
      "------------------------------------------------------------------------------\n",
      "Intercept      3.9192      0.099     39.392      0.000       3.723       4.115\n",
      "ny             0.3918      0.150      2.605      0.010       0.096       0.688\n",
      "bs             0.1351      0.104      1.297      0.196      -0.070       0.340\n",
      "ny:bs         -0.1428      0.157     -0.907      0.365      -0.453       0.167\n",
      "ca             0.6736      0.132      5.118      0.000       0.415       0.933\n",
      "ca:bs         -0.3114      0.138     -2.258      0.025      -0.583      -0.040\n",
      "==============================================================================\n",
      "Omnibus:                        4.519   Durbin-Watson:                   0.314\n",
      "Prob(Omnibus):                  0.104   Jarque-Bera (JB):                3.265\n",
      "Skew:                          -0.100   Prob(JB):                        0.195\n",
      "Kurtosis:                       2.543   Cond. No.                         25.3\n",
      "==============================================================================\n",
      "\n",
      "Notes:\n",
      "[1] Standard Errors assume that the covariance matrix of the errors is correctly specified.\n"
     ]
    }
   ],
   "source": [
    "result = sm.ols(formula=\"log_sal ~ ny*bs+ca*bs\", \n",
    "                data=data).fit()\n",
    "print(result.summary())"
   ]
  },
  {
   "cell_type": "code",
   "execution_count": 117,
   "metadata": {},
   "outputs": [
    {
     "name": "stdout",
     "output_type": "stream",
     "text": [
      "                            OLS Regression Results                            \n",
      "==============================================================================\n",
      "Dep. Variable:                log_sal   R-squared:                       0.254\n",
      "Model:                            OLS   Adj. R-squared:                  0.241\n",
      "Method:                 Least Squares   F-statistic:                     20.99\n",
      "Date:                Sat, 11 Dec 2021   Prob (F-statistic):           4.57e-18\n",
      "Time:                        12:25:20   Log-Likelihood:                -63.086\n",
      "No. Observations:                 315   AIC:                             138.2\n",
      "Df Residuals:                     309   BIC:                             160.7\n",
      "Df Model:                           5                                         \n",
      "Covariance Type:            nonrobust                                         \n",
      "==============================================================================\n",
      "                 coef    std err          t      P>|t|      [0.025      0.975]\n",
      "------------------------------------------------------------------------------\n",
      "Intercept      4.3110      0.113     38.213      0.000       4.089       4.533\n",
      "tx            -0.3918      0.150     -2.605      0.010      -0.688      -0.096\n",
      "bs            -0.0077      0.118     -0.065      0.948      -0.240       0.225\n",
      "tx:bs          0.1428      0.157      0.907      0.365      -0.167       0.453\n",
      "ca             0.2818      0.142      1.985      0.048       0.003       0.561\n",
      "ca:bs         -0.1686      0.149     -1.134      0.257      -0.461       0.124\n",
      "==============================================================================\n",
      "Omnibus:                        4.519   Durbin-Watson:                   0.314\n",
      "Prob(Omnibus):                  0.104   Jarque-Bera (JB):                3.265\n",
      "Skew:                          -0.100   Prob(JB):                        0.195\n",
      "Kurtosis:                       2.543   Cond. No.                         28.0\n",
      "==============================================================================\n",
      "\n",
      "Notes:\n",
      "[1] Standard Errors assume that the covariance matrix of the errors is correctly specified.\n"
     ]
    }
   ],
   "source": [
    "result = sm.ols(formula=\"log_sal ~ tx*bs+ca*bs\", \n",
    "                data=data).fit()\n",
    "print(result.summary())"
   ]
  },
  {
   "cell_type": "code",
   "execution_count": 118,
   "metadata": {},
   "outputs": [
    {
     "name": "stdout",
     "output_type": "stream",
     "text": [
      "                            OLS Regression Results                            \n",
      "==============================================================================\n",
      "Dep. Variable:                log_sal   R-squared:                       0.254\n",
      "Model:                            OLS   Adj. R-squared:                  0.237\n",
      "Method:                 Least Squares   F-statistic:                     14.91\n",
      "Date:                Sat, 11 Dec 2021   Prob (F-statistic):           9.54e-17\n",
      "Time:                        12:25:20   Log-Likelihood:                -63.059\n",
      "No. Observations:                 315   AIC:                             142.1\n",
      "Df Residuals:                     307   BIC:                             172.1\n",
      "Df Model:                           7                                         \n",
      "Covariance Type:            nonrobust                                         \n",
      "=================================================================================\n",
      "                    coef    std err          t      P>|t|      [0.025      0.975]\n",
      "---------------------------------------------------------------------------------\n",
      "Intercept         3.9198      0.100     39.148      0.000       3.723       4.117\n",
      "ny                0.3890      0.151      2.569      0.011       0.091       0.687\n",
      "bs                0.1346      0.105      1.279      0.202      -0.072       0.342\n",
      "ny:bs            -0.1412      0.158     -0.892      0.373      -0.453       0.170\n",
      "ca                0.6724      0.132      5.087      0.000       0.412       0.932\n",
      "ca:bs            -0.3105      0.138     -2.243      0.026      -0.583      -0.038\n",
      "com_size_u500    -0.0061      0.037     -0.166      0.868      -0.079       0.067\n",
      "com_rev_u500m     0.0072      0.037      0.198      0.843      -0.065       0.079\n",
      "==============================================================================\n",
      "Omnibus:                        4.331   Durbin-Watson:                   0.313\n",
      "Prob(Omnibus):                  0.115   Jarque-Bera (JB):                3.157\n",
      "Skew:                          -0.097   Prob(JB):                        0.206\n",
      "Kurtosis:                       2.550   Cond. No.                         27.3\n",
      "==============================================================================\n",
      "\n",
      "Notes:\n",
      "[1] Standard Errors assume that the covariance matrix of the errors is correctly specified.\n"
     ]
    }
   ],
   "source": [
    "result = sm.ols(formula=\"log_sal ~ ny*bs+ca*bs+com_size_u500+com_rev_u500m\", \n",
    "                data=data).fit()\n",
    "print(result.summary())"
   ]
  },
  {
   "cell_type": "code",
   "execution_count": 119,
   "metadata": {},
   "outputs": [
    {
     "name": "stdout",
     "output_type": "stream",
     "text": [
      "                            OLS Regression Results                            \n",
      "==============================================================================\n",
      "Dep. Variable:                log_sal   R-squared:                       0.254\n",
      "Model:                            OLS   Adj. R-squared:                  0.235\n",
      "Method:                 Least Squares   F-statistic:                     13.04\n",
      "Date:                Sat, 11 Dec 2021   Prob (F-statistic):           3.47e-16\n",
      "Time:                        12:25:20   Log-Likelihood:                -62.943\n",
      "No. Observations:                 315   AIC:                             143.9\n",
      "Df Residuals:                     306   BIC:                             177.7\n",
      "Df Model:                           8                                         \n",
      "Covariance Type:            nonrobust                                         \n",
      "=================================================================================\n",
      "                    coef    std err          t      P>|t|      [0.025      0.975]\n",
      "---------------------------------------------------------------------------------\n",
      "Intercept         3.9088      0.103     37.997      0.000       3.706       4.111\n",
      "ny                0.3904      0.152      2.574      0.011       0.092       0.689\n",
      "bs                0.1355      0.105      1.286      0.200      -0.072       0.343\n",
      "ny:bs            -0.1422      0.158     -0.898      0.370      -0.454       0.170\n",
      "ca                0.6751      0.132      5.096      0.000       0.414       0.936\n",
      "ca:bs            -0.3130      0.139     -2.257      0.025      -0.586      -0.040\n",
      "com_size_u500    -0.0062      0.037     -0.168      0.867      -0.079       0.067\n",
      "com_rev_u500m     0.0079      0.037      0.216      0.829      -0.064       0.080\n",
      "ye0               0.0164      0.034      0.476      0.635      -0.051       0.084\n",
      "==============================================================================\n",
      "Omnibus:                        4.471   Durbin-Watson:                   0.314\n",
      "Prob(Omnibus):                  0.107   Jarque-Bera (JB):                3.246\n",
      "Skew:                          -0.101   Prob(JB):                        0.197\n",
      "Kurtosis:                       2.546   Cond. No.                         29.0\n",
      "==============================================================================\n",
      "\n",
      "Notes:\n",
      "[1] Standard Errors assume that the covariance matrix of the errors is correctly specified.\n"
     ]
    }
   ],
   "source": [
    "result = sm.ols(formula=\"log_sal ~ ny*bs+ca*bs+com_size_u500+com_rev_u500m+ye0\", \n",
    "                data=data).fit()\n",
    "print(result.summary())"
   ]
  },
  {
   "cell_type": "code",
   "execution_count": 120,
   "metadata": {},
   "outputs": [
    {
     "name": "stdout",
     "output_type": "stream",
     "text": [
      "                            OLS Regression Results                            \n",
      "==============================================================================\n",
      "Dep. Variable:                log_sal   R-squared:                       0.254\n",
      "Model:                            OLS   Adj. R-squared:                  0.237\n",
      "Method:                 Least Squares   F-statistic:                     14.95\n",
      "Date:                Sat, 11 Dec 2021   Prob (F-statistic):           8.68e-17\n",
      "Time:                        12:25:20   Log-Likelihood:                -62.957\n",
      "No. Observations:                 315   AIC:                             141.9\n",
      "Df Residuals:                     307   BIC:                             171.9\n",
      "Df Model:                           7                                         \n",
      "Covariance Type:            nonrobust                                         \n",
      "=================================================================================\n",
      "                    coef    std err          t      P>|t|      [0.025      0.975]\n",
      "---------------------------------------------------------------------------------\n",
      "Intercept         3.9076      0.102     38.131      0.000       3.706       4.109\n",
      "ny                0.3915      0.151      2.588      0.010       0.094       0.689\n",
      "bs                0.1344      0.105      1.280      0.202      -0.072       0.341\n",
      "ny:bs            -0.1422      0.158     -0.899      0.369      -0.454       0.169\n",
      "ca                0.6760      0.132      5.117      0.000       0.416       0.936\n",
      "ca:bs            -0.3137      0.138     -2.267      0.024      -0.586      -0.041\n",
      "com_rev_u500m     0.0060      0.035      0.173      0.863      -0.062       0.074\n",
      "ye0               0.0163      0.034      0.476      0.635      -0.051       0.084\n",
      "==============================================================================\n",
      "Omnibus:                        4.543   Durbin-Watson:                   0.314\n",
      "Prob(Omnibus):                  0.103   Jarque-Bera (JB):                3.287\n",
      "Skew:                          -0.102   Prob(JB):                        0.193\n",
      "Kurtosis:                       2.543   Cond. No.                         28.1\n",
      "==============================================================================\n",
      "\n",
      "Notes:\n",
      "[1] Standard Errors assume that the covariance matrix of the errors is correctly specified.\n"
     ]
    }
   ],
   "source": [
    "result = sm.ols(formula=\"log_sal ~ ny*bs+ca*bs+com_rev_u500m+ye0\", \n",
    "                data=data).fit()\n",
    "print(result.summary())"
   ]
  },
  {
   "cell_type": "code",
   "execution_count": 121,
   "metadata": {},
   "outputs": [
    {
     "name": "stdout",
     "output_type": "stream",
     "text": [
      "                            OLS Regression Results                            \n",
      "==============================================================================\n",
      "Dep. Variable:                log_sal   R-squared:                       0.254\n",
      "Model:                            OLS   Adj. R-squared:                  0.235\n",
      "Method:                 Least Squares   F-statistic:                     13.04\n",
      "Date:                Sat, 11 Dec 2021   Prob (F-statistic):           3.50e-16\n",
      "Time:                        12:25:20   Log-Likelihood:                -62.952\n",
      "No. Observations:                 315   AIC:                             143.9\n",
      "Df Residuals:                     306   BIC:                             177.7\n",
      "Df Model:                           8                                         \n",
      "Covariance Type:            nonrobust                                         \n",
      "=====================================================================================\n",
      "                        coef    std err          t      P>|t|      [0.025      0.975]\n",
      "-------------------------------------------------------------------------------------\n",
      "Intercept             3.9092      0.104     37.616      0.000       3.705       4.114\n",
      "ny                    0.3903      0.152      2.568      0.011       0.091       0.689\n",
      "bs                    0.1344      0.105      1.278      0.202      -0.073       0.341\n",
      "ny:bs                -0.1407      0.159     -0.884      0.377      -0.454       0.173\n",
      "ca                    0.6754      0.132      5.097      0.000       0.415       0.936\n",
      "ca:bs                -0.3128      0.139     -2.250      0.025      -0.586      -0.039\n",
      "com_rev_u500m         0.0020      0.054      0.036      0.971      -0.105       0.109\n",
      "ye0                   0.0135      0.045      0.299      0.765      -0.075       0.102\n",
      "com_rev_u500m:ye0     0.0069      0.071      0.097      0.923      -0.133       0.147\n",
      "==============================================================================\n",
      "Omnibus:                        4.502   Durbin-Watson:                   0.315\n",
      "Prob(Omnibus):                  0.105   Jarque-Bera (JB):                3.270\n",
      "Skew:                          -0.103   Prob(JB):                        0.195\n",
      "Kurtosis:                       2.545   Cond. No.                         28.6\n",
      "==============================================================================\n",
      "\n",
      "Notes:\n",
      "[1] Standard Errors assume that the covariance matrix of the errors is correctly specified.\n"
     ]
    }
   ],
   "source": [
    "result = sm.ols(formula=\"log_sal ~ ny*bs+ca*bs+com_rev_u500m*ye0\", \n",
    "                data=data).fit()\n",
    "print(result.summary())"
   ]
  },
  {
   "cell_type": "code",
   "execution_count": 122,
   "metadata": {},
   "outputs": [
    {
     "name": "stdout",
     "output_type": "stream",
     "text": [
      "                            OLS Regression Results                            \n",
      "==============================================================================\n",
      "Dep. Variable:                log_sal   R-squared:                       0.254\n",
      "Model:                            OLS   Adj. R-squared:                  0.237\n",
      "Method:                 Least Squares   F-statistic:                     14.95\n",
      "Date:                Sat, 11 Dec 2021   Prob (F-statistic):           8.68e-17\n",
      "Time:                        12:25:20   Log-Likelihood:                -62.957\n",
      "No. Observations:                 315   AIC:                             141.9\n",
      "Df Residuals:                     307   BIC:                             171.9\n",
      "Df Model:                           7                                         \n",
      "Covariance Type:            nonrobust                                         \n",
      "=================================================================================\n",
      "                    coef    std err          t      P>|t|      [0.025      0.975]\n",
      "---------------------------------------------------------------------------------\n",
      "Intercept         4.2991      0.116     37.096      0.000       4.071       4.527\n",
      "tx               -0.3915      0.151     -2.588      0.010      -0.689      -0.094\n",
      "bs               -0.0079      0.118     -0.066      0.947      -0.241       0.225\n",
      "tx:bs             0.1422      0.158      0.899      0.369      -0.169       0.454\n",
      "ca                0.2846      0.143      1.995      0.047       0.004       0.565\n",
      "ca:bs            -0.1715      0.149     -1.148      0.252      -0.465       0.122\n",
      "com_rev_u500m     0.0060      0.035      0.173      0.863      -0.062       0.074\n",
      "ye0               0.0163      0.034      0.476      0.635      -0.051       0.084\n",
      "==============================================================================\n",
      "Omnibus:                        4.543   Durbin-Watson:                   0.314\n",
      "Prob(Omnibus):                  0.103   Jarque-Bera (JB):                3.287\n",
      "Skew:                          -0.102   Prob(JB):                        0.193\n",
      "Kurtosis:                       2.543   Cond. No.                         31.0\n",
      "==============================================================================\n",
      "\n",
      "Notes:\n",
      "[1] Standard Errors assume that the covariance matrix of the errors is correctly specified.\n"
     ]
    }
   ],
   "source": [
    "result = sm.ols(formula=\"log_sal ~ tx*bs+ca*bs+com_rev_u500m+ye0\", \n",
    "                data=data).fit()\n",
    "print(result.summary())"
   ]
  },
  {
   "cell_type": "code",
   "execution_count": 123,
   "metadata": {},
   "outputs": [
    {
     "name": "stdout",
     "output_type": "stream",
     "text": [
      "                            OLS Regression Results                            \n",
      "==============================================================================\n",
      "Dep. Variable:                log_sal   R-squared:                       0.254\n",
      "Model:                            OLS   Adj. R-squared:                  0.235\n",
      "Method:                 Least Squares   F-statistic:                     13.04\n",
      "Date:                Sat, 11 Dec 2021   Prob (F-statistic):           3.50e-16\n",
      "Time:                        12:25:20   Log-Likelihood:                -62.952\n",
      "No. Observations:                 315   AIC:                             143.9\n",
      "Df Residuals:                     306   BIC:                             177.7\n",
      "Df Model:                           8                                         \n",
      "Covariance Type:            nonrobust                                         \n",
      "=====================================================================================\n",
      "                        coef    std err          t      P>|t|      [0.025      0.975]\n",
      "-------------------------------------------------------------------------------------\n",
      "Intercept             4.2995      0.116     37.015      0.000       4.071       4.528\n",
      "tx                   -0.3903      0.152     -2.568      0.011      -0.689      -0.091\n",
      "bs                   -0.0063      0.120     -0.053      0.958      -0.242       0.229\n",
      "tx:bs                 0.1407      0.159      0.884      0.377      -0.173       0.454\n",
      "ca                    0.2851      0.143      1.994      0.047       0.004       0.567\n",
      "ca:bs                -0.1721      0.150     -1.149      0.251      -0.467       0.123\n",
      "com_rev_u500m         0.0020      0.054      0.036      0.971      -0.105       0.109\n",
      "ye0                   0.0135      0.045      0.299      0.765      -0.075       0.102\n",
      "com_rev_u500m:ye0     0.0069      0.071      0.097      0.923      -0.133       0.147\n",
      "==============================================================================\n",
      "Omnibus:                        4.502   Durbin-Watson:                   0.315\n",
      "Prob(Omnibus):                  0.105   Jarque-Bera (JB):                3.270\n",
      "Skew:                          -0.103   Prob(JB):                        0.195\n",
      "Kurtosis:                       2.545   Cond. No.                         31.5\n",
      "==============================================================================\n",
      "\n",
      "Notes:\n",
      "[1] Standard Errors assume that the covariance matrix of the errors is correctly specified.\n"
     ]
    }
   ],
   "source": [
    "result = sm.ols(formula=\"log_sal ~ tx*bs+ca*bs+com_rev_u500m*ye0\", \n",
    "                data=data).fit()\n",
    "print(result.summary())"
   ]
  },
  {
   "cell_type": "code",
   "execution_count": 124,
   "metadata": {},
   "outputs": [
    {
     "data": {
      "text/plain": [
       "Index(['Unnamed:_0', 'Job_Title', 'Salary_Estimate', 'Job_Description',\n",
       "       'Rating', 'Company_Name', 'Location', 'Headquarters', 'Size', 'Founded',\n",
       "       'Type_of_ownership', 'Industry', 'Sector', 'Revenue', 'Competitors',\n",
       "       'Easy_Apply', 'skills', 'Senior', 'com_size_u500', 'com_rev_u500m',\n",
       "       'years_experience', 'ye0', 'ye3', 'Location_code', 'log_sal', 'ca',\n",
       "       'ny', 'tx', 'bs', 'states', 'sec', 'Revenue_new', 'ln_revenue'],\n",
       "      dtype='object')"
      ]
     },
     "execution_count": 124,
     "metadata": {},
     "output_type": "execute_result"
    }
   ],
   "source": [
    "df.columns"
   ]
  },
  {
   "cell_type": "code",
   "execution_count": 125,
   "metadata": {},
   "outputs": [
    {
     "name": "stdout",
     "output_type": "stream",
     "text": [
      "                            OLS Regression Results                            \n",
      "==============================================================================\n",
      "Dep. Variable:                log_sal   R-squared:                       0.284\n",
      "Model:                            OLS   Adj. R-squared:                  0.263\n",
      "Method:                 Least Squares   F-statistic:                     13.21\n",
      "Date:                Sat, 11 Dec 2021   Prob (F-statistic):           2.57e-14\n",
      "Time:                        12:25:20   Log-Likelihood:                -47.316\n",
      "No. Observations:                 241   AIC:                             110.6\n",
      "Df Residuals:                     233   BIC:                             138.5\n",
      "Df Model:                           7                                         \n",
      "Covariance Type:            nonrobust                                         \n",
      "==============================================================================\n",
      "                 coef    std err          t      P>|t|      [0.025      0.975]\n",
      "------------------------------------------------------------------------------\n",
      "Intercept      3.9082      0.104     37.555      0.000       3.703       4.113\n",
      "ny             0.4113      0.167      2.457      0.015       0.082       0.741\n",
      "bs             0.1522      0.109      1.401      0.163      -0.062       0.366\n",
      "ny:bs         -0.1783      0.176     -1.010      0.313      -0.526       0.169\n",
      "ca             0.6588      0.135      4.885      0.000       0.393       0.925\n",
      "ca:bs         -0.2743      0.143     -1.920      0.056      -0.556       0.007\n",
      "ln_revenue    -0.0041      0.008     -0.507      0.612      -0.020       0.012\n",
      "ye0            0.0267      0.039      0.679      0.498      -0.051       0.104\n",
      "==============================================================================\n",
      "Omnibus:                        3.950   Durbin-Watson:                   0.395\n",
      "Prob(Omnibus):                  0.139   Jarque-Bera (JB):                2.843\n",
      "Skew:                          -0.109   Prob(JB):                        0.241\n",
      "Kurtosis:                       2.514   Cond. No.                         76.0\n",
      "==============================================================================\n",
      "\n",
      "Notes:\n",
      "[1] Standard Errors assume that the covariance matrix of the errors is correctly specified.\n"
     ]
    }
   ],
   "source": [
    "result = sm.ols(formula=\"log_sal ~ ny*bs+ca*bs+ln_revenue+ye0\", \n",
    "                data=data).fit()\n",
    "print(result.summary())"
   ]
  },
  {
   "cell_type": "code",
   "execution_count": 126,
   "metadata": {},
   "outputs": [
    {
     "name": "stdout",
     "output_type": "stream",
     "text": [
      "                            OLS Regression Results                            \n",
      "==============================================================================\n",
      "Dep. Variable:                log_sal   R-squared:                       0.255\n",
      "Model:                            OLS   Adj. R-squared:                  0.236\n",
      "Method:                 Least Squares   F-statistic:                     13.12\n",
      "Date:                Sat, 11 Dec 2021   Prob (F-statistic):           2.77e-16\n",
      "Time:                        12:25:20   Log-Likelihood:                -62.699\n",
      "No. Observations:                 315   AIC:                             143.4\n",
      "Df Residuals:                     306   BIC:                             177.2\n",
      "Df Model:                           8                                         \n",
      "Covariance Type:            nonrobust                                         \n",
      "=====================================================================================\n",
      "                        coef    std err          t      P>|t|      [0.025      0.975]\n",
      "-------------------------------------------------------------------------------------\n",
      "Intercept             3.9156      0.103     38.107      0.000       3.713       4.118\n",
      "ny                    0.3895      0.152      2.566      0.011       0.091       0.688\n",
      "bs                    0.1357      0.106      1.283      0.201      -0.072       0.344\n",
      "ny:bs                -0.1422      0.159     -0.897      0.371      -0.454       0.170\n",
      "ca                    0.6675      0.133      5.029      0.000       0.406       0.929\n",
      "ca:bs                -0.3075      0.139     -2.208      0.028      -0.582      -0.033\n",
      "com_rev_u500m        -0.0061      0.041     -0.149      0.882      -0.086       0.074\n",
      "ye3                   0.0095      0.050      0.190      0.850      -0.090       0.109\n",
      "com_rev_u500m:ye3     0.0402      0.078      0.513      0.608      -0.114       0.194\n",
      "==============================================================================\n",
      "Omnibus:                        3.609   Durbin-Watson:                   0.315\n",
      "Prob(Omnibus):                  0.165   Jarque-Bera (JB):                2.902\n",
      "Skew:                          -0.119   Prob(JB):                        0.234\n",
      "Kurtosis:                       2.595   Cond. No.                         27.0\n",
      "==============================================================================\n",
      "\n",
      "Notes:\n",
      "[1] Standard Errors assume that the covariance matrix of the errors is correctly specified.\n"
     ]
    }
   ],
   "source": [
    "result = sm.ols(formula=\"log_sal ~ ny*bs+ca*bs+com_rev_u500m*ye3\", \n",
    "                data=data).fit()\n",
    "print(result.summary())"
   ]
  },
  {
   "cell_type": "code",
   "execution_count": 127,
   "metadata": {},
   "outputs": [
    {
     "name": "stdout",
     "output_type": "stream",
     "text": [
      "                            OLS Regression Results                            \n",
      "==============================================================================\n",
      "Dep. Variable:                log_sal   R-squared:                       0.255\n",
      "Model:                            OLS   Adj. R-squared:                  0.236\n",
      "Method:                 Least Squares   F-statistic:                     13.12\n",
      "Date:                Sat, 11 Dec 2021   Prob (F-statistic):           2.77e-16\n",
      "Time:                        12:25:20   Log-Likelihood:                -62.699\n",
      "No. Observations:                 315   AIC:                             143.4\n",
      "Df Residuals:                     306   BIC:                             177.2\n",
      "Df Model:                           8                                         \n",
      "Covariance Type:            nonrobust                                         \n",
      "=====================================================================================\n",
      "                        coef    std err          t      P>|t|      [0.025      0.975]\n",
      "-------------------------------------------------------------------------------------\n",
      "Intercept             4.3051      0.115     37.462      0.000       4.079       4.531\n",
      "tx                   -0.3895      0.152     -2.566      0.011      -0.688      -0.091\n",
      "bs                   -0.0065      0.119     -0.055      0.956      -0.240       0.227\n",
      "tx:bs                 0.1422      0.159      0.897      0.371      -0.170       0.454\n",
      "ca                    0.2780      0.143      1.946      0.053      -0.003       0.559\n",
      "ca:bs                -0.1653      0.150     -1.104      0.270      -0.460       0.129\n",
      "com_rev_u500m        -0.0061      0.041     -0.149      0.882      -0.086       0.074\n",
      "ye3                   0.0095      0.050      0.190      0.850      -0.090       0.109\n",
      "com_rev_u500m:ye3     0.0402      0.078      0.513      0.608      -0.114       0.194\n",
      "==============================================================================\n",
      "Omnibus:                        3.609   Durbin-Watson:                   0.315\n",
      "Prob(Omnibus):                  0.165   Jarque-Bera (JB):                2.902\n",
      "Skew:                          -0.119   Prob(JB):                        0.234\n",
      "Kurtosis:                       2.595   Cond. No.                         29.6\n",
      "==============================================================================\n",
      "\n",
      "Notes:\n",
      "[1] Standard Errors assume that the covariance matrix of the errors is correctly specified.\n"
     ]
    }
   ],
   "source": [
    "result = sm.ols(formula=\"log_sal ~ tx*bs+ca*bs+com_rev_u500m*ye3\", \n",
    "                data=data).fit()\n",
    "print(result.summary())"
   ]
  },
  {
   "cell_type": "code",
   "execution_count": 128,
   "metadata": {},
   "outputs": [
    {
     "data": {
      "text/plain": [
       "Index(['Unnamed:_0', 'Job_Title', 'Salary_Estimate', 'Job_Description',\n",
       "       'Rating', 'Company_Name', 'Location', 'Headquarters', 'Size', 'Founded',\n",
       "       'Type_of_ownership', 'Industry', 'Sector', 'Revenue', 'Competitors',\n",
       "       'Easy_Apply', 'skills', 'Senior', 'com_size_u500', 'com_rev_u500m',\n",
       "       'years_experience', 'ye0', 'ye3', 'Location_code', 'log_sal', 'ca',\n",
       "       'ny', 'tx', 'bs', 'states', 'sec', 'Revenue_new', 'ln_revenue'],\n",
       "      dtype='object')"
      ]
     },
     "execution_count": 128,
     "metadata": {},
     "output_type": "execute_result"
    }
   ],
   "source": [
    "data.columns"
   ]
  },
  {
   "cell_type": "code",
   "execution_count": 129,
   "metadata": {},
   "outputs": [
    {
     "name": "stdout",
     "output_type": "stream",
     "text": [
      "                            OLS Regression Results                            \n",
      "==============================================================================\n",
      "Dep. Variable:                log_sal   R-squared:                       0.207\n",
      "Model:                            OLS   Adj. R-squared:                  0.177\n",
      "Method:                 Least Squares   F-statistic:                     6.884\n",
      "Date:                Sat, 11 Dec 2021   Prob (F-statistic):           2.81e-07\n",
      "Time:                        12:25:21   Log-Likelihood:                -40.944\n",
      "No. Observations:                 193   AIC:                             97.89\n",
      "Df Residuals:                     185   BIC:                             124.0\n",
      "Df Model:                           7                                         \n",
      "Covariance Type:            nonrobust                                         \n",
      "====================================================================================\n",
      "                       coef    std err          t      P>|t|      [0.025      0.975]\n",
      "------------------------------------------------------------------------------------\n",
      "Intercept            4.1429      0.125     33.063      0.000       3.896       4.390\n",
      "ny                   0.1456      0.199      0.732      0.465      -0.247       0.538\n",
      "bs                  -0.0164      0.132     -0.124      0.901      -0.277       0.244\n",
      "ny:bs                0.0529      0.209      0.253      0.800      -0.359       0.465\n",
      "ca                   0.4686      0.165      2.839      0.005       0.143       0.794\n",
      "ca:bs               -0.1626      0.174     -0.936      0.351      -0.505       0.180\n",
      "com_rev_u500m       -0.0109      0.046     -0.238      0.812      -0.101       0.080\n",
      "years_experience    -0.0047      0.002     -2.047      0.042      -0.009      -0.000\n",
      "==============================================================================\n",
      "Omnibus:                        1.842   Durbin-Watson:                   0.519\n",
      "Prob(Omnibus):                  0.398   Jarque-Bera (JB):                1.561\n",
      "Skew:                          -0.070   Prob(JB):                        0.458\n",
      "Kurtosis:                       2.582   Cond. No.                         172.\n",
      "==============================================================================\n",
      "\n",
      "Notes:\n",
      "[1] Standard Errors assume that the covariance matrix of the errors is correctly specified.\n"
     ]
    }
   ],
   "source": [
    "result = sm.ols(formula=\"log_sal ~ ny*bs+ca*bs+com_rev_u500m+years_experience\", \n",
    "                data=data).fit()\n",
    "print(result.summary())"
   ]
  },
  {
   "cell_type": "code",
   "execution_count": 130,
   "metadata": {},
   "outputs": [
    {
     "name": "stdout",
     "output_type": "stream",
     "text": [
      "                            OLS Regression Results                            \n",
      "==============================================================================\n",
      "Dep. Variable:                log_sal   R-squared:                       0.257\n",
      "Model:                            OLS   Adj. R-squared:                  0.236\n",
      "Method:                 Least Squares   F-statistic:                     11.75\n",
      "Date:                Sat, 11 Dec 2021   Prob (F-statistic):           7.05e-16\n",
      "Time:                        12:25:21   Log-Likelihood:                -62.261\n",
      "No. Observations:                 315   AIC:                             144.5\n",
      "Df Residuals:                     305   BIC:                             182.0\n",
      "Df Model:                           9                                         \n",
      "Covariance Type:            nonrobust                                         \n",
      "=====================================================================================\n",
      "                        coef    std err          t      P>|t|      [0.025      0.975]\n",
      "-------------------------------------------------------------------------------------\n",
      "Intercept             3.9248      0.103     38.009      0.000       3.722       4.128\n",
      "ny                    0.3927      0.152      2.585      0.010       0.094       0.692\n",
      "bs                    0.1457      0.106      1.370      0.172      -0.064       0.355\n",
      "ny:bs                -0.1412      0.159     -0.891      0.374      -0.453       0.171\n",
      "ca                    0.6703      0.133      5.048      0.000       0.409       0.932\n",
      "ca:bs                -0.3123      0.139     -2.240      0.026      -0.587      -0.038\n",
      "com_rev_u500m        -0.0067      0.041     -0.165      0.869      -0.087       0.073\n",
      "ye3                   0.0139      0.051      0.275      0.783      -0.086       0.114\n",
      "com_rev_u500m:ye3     0.0465      0.079      0.592      0.554      -0.108       0.201\n",
      "skills               -0.0111      0.012     -0.922      0.357      -0.035       0.013\n",
      "==============================================================================\n",
      "Omnibus:                        3.947   Durbin-Watson:                   0.309\n",
      "Prob(Omnibus):                  0.139   Jarque-Bera (JB):                3.101\n",
      "Skew:                          -0.122   Prob(JB):                        0.212\n",
      "Kurtosis:                       2.580   Cond. No.                         45.1\n",
      "==============================================================================\n",
      "\n",
      "Notes:\n",
      "[1] Standard Errors assume that the covariance matrix of the errors is correctly specified.\n"
     ]
    }
   ],
   "source": [
    "result = sm.ols(formula=\"log_sal ~ ny*bs+ca*bs+com_rev_u500m*ye3+skills\", \n",
    "                data=data).fit()\n",
    "print(result.summary())"
   ]
  },
  {
   "cell_type": "code",
   "execution_count": 131,
   "metadata": {},
   "outputs": [
    {
     "name": "stdout",
     "output_type": "stream",
     "text": [
      "                            OLS Regression Results                            \n",
      "==============================================================================\n",
      "Dep. Variable:                log_sal   R-squared:                       0.259\n",
      "Model:                            OLS   Adj. R-squared:                  0.235\n",
      "Method:                 Least Squares   F-statistic:                     10.64\n",
      "Date:                Sat, 11 Dec 2021   Prob (F-statistic):           1.79e-15\n",
      "Time:                        12:25:21   Log-Likelihood:                -61.882\n",
      "No. Observations:                 315   AIC:                             145.8\n",
      "Df Residuals:                     304   BIC:                             187.0\n",
      "Df Model:                          10                                         \n",
      "Covariance Type:            nonrobust                                         \n",
      "=====================================================================================\n",
      "                        coef    std err          t      P>|t|      [0.025      0.975]\n",
      "-------------------------------------------------------------------------------------\n",
      "Intercept             3.9213      0.103     37.929      0.000       3.718       4.125\n",
      "ny                    0.3925      0.152      2.583      0.010       0.093       0.691\n",
      "bs                    0.1487      0.106      1.396      0.164      -0.061       0.358\n",
      "ny:bs                -0.1382      0.159     -0.871      0.385      -0.451       0.174\n",
      "ca                    0.6692      0.133      5.037      0.000       0.408       0.931\n",
      "ca:bs                -0.3101      0.139     -2.223      0.027      -0.585      -0.036\n",
      "com_rev_u500m        -0.0079      0.041     -0.193      0.847      -0.088       0.072\n",
      "ye3                   0.0174      0.051      0.342      0.733      -0.083       0.117\n",
      "com_rev_u500m:ye3     0.0502      0.079      0.638      0.524      -0.105       0.205\n",
      "skills               -0.0090      0.012     -0.733      0.464      -0.033       0.015\n",
      "Senior               -0.0517      0.060     -0.855      0.393      -0.171       0.067\n",
      "==============================================================================\n",
      "Omnibus:                        4.247   Durbin-Watson:                   0.312\n",
      "Prob(Omnibus):                  0.120   Jarque-Bera (JB):                3.226\n",
      "Skew:                          -0.118   Prob(JB):                        0.199\n",
      "Kurtosis:                       2.563   Cond. No.                         45.2\n",
      "==============================================================================\n",
      "\n",
      "Notes:\n",
      "[1] Standard Errors assume that the covariance matrix of the errors is correctly specified.\n"
     ]
    }
   ],
   "source": [
    "result = sm.ols(formula=\"log_sal ~ ny*bs+ca*bs+com_rev_u500m*ye3+skills+Senior\", \n",
    "                data=data).fit()\n",
    "print(result.summary())"
   ]
  },
  {
   "cell_type": "code",
   "execution_count": null,
   "metadata": {},
   "outputs": [],
   "source": []
  },
  {
   "cell_type": "code",
   "execution_count": null,
   "metadata": {},
   "outputs": [],
   "source": []
  },
  {
   "cell_type": "code",
   "execution_count": null,
   "metadata": {},
   "outputs": [],
   "source": []
  },
  {
   "cell_type": "code",
   "execution_count": null,
   "metadata": {},
   "outputs": [],
   "source": []
  },
  {
   "cell_type": "code",
   "execution_count": null,
   "metadata": {},
   "outputs": [],
   "source": []
  },
  {
   "cell_type": "code",
   "execution_count": null,
   "metadata": {},
   "outputs": [],
   "source": []
  },
  {
   "cell_type": "markdown",
   "metadata": {},
   "source": [
    "## T-Test"
   ]
  },
  {
   "cell_type": "code",
   "execution_count": 132,
   "metadata": {},
   "outputs": [],
   "source": [
    "def state(x, y):\n",
    "   ca = df[df['Location'].str.contains(x)]\n",
    "   mean = ca[ca['Sector'] != y]['Salary_Estimate'].mean()\n",
    "   ca_mean = ca.groupby('Sector').Salary_Estimate.mean().to_frame()\n",
    "   ca_std = ca.groupby('Sector').Salary_Estimate.std().to_frame()\n",
    "   ca_cnt = ca.groupby('Sector').Salary_Estimate.count().to_frame()\n",
    "   ca1 = ca_mean.merge(ca_std, left_on = 'Sector', right_on = 'Sector', how = 'inner')\n",
    "   ca_merge = ca1.merge(ca_cnt, left_on = 'Sector', right_on = 'Sector', how = 'inner')\n",
    "   ca_merge = ca_merge.rename(columns={\"Salary_Estimate_x\": \"Salary_Estimate\", \"Salary_Estimate_y\": \"std\", \"Salary_Estimate\": \"count\"})\n",
    "   ca_merge = ca_merge[(ca_merge['count'] >= 10) & (ca_merge.index != '-1')].sort_values(by = 'Salary_Estimate', ascending = False)\n",
    "   ca_sector = ca[ca['Sector'] == y]['Salary_Estimate'].to_numpy()\n",
    "   ans = st.ttest_1samp(a=ca_sector, popmean=mean, alternative  = 'greater')\n",
    "   return ca_merge, ans"
   ]
  },
  {
   "cell_type": "code",
   "execution_count": 133,
   "metadata": {},
   "outputs": [
    {
     "data": {
      "text/plain": [
       "(                           Salary_Estimate        std  count\n",
       " Sector                                                      \n",
       " Accounting & Legal              101.708333  25.814424     12\n",
       " Information Technology           94.254054  28.139217    185\n",
       " Health Care                      93.756757  30.946105     37\n",
       " Biotech & Pharmaceuticals        89.718750  15.331850     16\n",
       " Manufacturing                    88.192308  31.665267     13\n",
       " Business Services                87.004167  27.625610    120\n",
       " Education                        83.725000  17.321629     20\n",
       " Insurance                        83.625000  31.796488     16\n",
       " Finance                          83.596774  32.219409     31\n",
       " Media                            72.475000  24.392339     20,\n",
       " Ttest_1sampResult(statistic=1.8163885099143071, pvalue=0.04831674784576253))"
      ]
     },
     "execution_count": 133,
     "metadata": {},
     "output_type": "execute_result"
    }
   ],
   "source": [
    "ca = state('CA', 'Accounting & Legal')\n",
    "ca"
   ]
  },
  {
   "cell_type": "code",
   "execution_count": 134,
   "metadata": {},
   "outputs": [
    {
     "data": {
      "text/plain": [
       "(                        Salary_Estimate        std  count\n",
       " Sector                                                   \n",
       " Business Services             76.195946  18.766558     74\n",
       " Information Technology        70.653846  18.371051     78\n",
       " Health Care                   70.023256  19.892255     43\n",
       " Non-Profit                    67.125000  11.874581     12\n",
       " Finance                       67.064516  18.710844     31\n",
       " Media                         64.428571  13.660523     14,\n",
       " Ttest_1sampResult(statistic=2.791927590550793, pvalue=0.0033419443850134078))"
      ]
     },
     "execution_count": 134,
     "metadata": {},
     "output_type": "execute_result"
    }
   ],
   "source": [
    "ny = state('NY', 'Business Services')\n",
    "ny"
   ]
  },
  {
   "cell_type": "code",
   "execution_count": 135,
   "metadata": {},
   "outputs": [
    {
     "data": {
      "text/plain": [
       "(                        Salary_Estimate        std  count\n",
       " Sector                                                   \n",
       " Business Services             60.516129  18.797469     93\n",
       " Health Care                   59.981481  22.568052     27\n",
       " Information Technology        59.247475  16.395988     99\n",
       " Government                    57.333333  17.745657     21\n",
       " Finance                       56.562500  18.287908     32,\n",
       " Ttest_1sampResult(statistic=1.1851739017195195, pvalue=0.11950053653331161))"
      ]
     },
     "execution_count": 135,
     "metadata": {},
     "output_type": "execute_result"
    }
   ],
   "source": [
    "tx = state('TX', 'Business Services')\n",
    "tx"
   ]
  },
  {
   "cell_type": "code",
   "execution_count": null,
   "metadata": {},
   "outputs": [],
   "source": []
  }
 ],
 "metadata": {
  "interpreter": {
   "hash": "dbefb8df6b02da65c90af1358b8218a3900f4b4d7c2164e0deb6e51ab9f6f5b7"
  },
  "kernelspec": {
   "display_name": "Python 3 (ipykernel)",
   "language": "python",
   "name": "python3"
  },
  "language_info": {
   "codemirror_mode": {
    "name": "ipython",
    "version": 3
   },
   "file_extension": ".py",
   "mimetype": "text/x-python",
   "name": "python",
   "nbconvert_exporter": "python",
   "pygments_lexer": "ipython3",
   "version": "3.7.11"
  }
 },
 "nbformat": 4,
 "nbformat_minor": 2
}
